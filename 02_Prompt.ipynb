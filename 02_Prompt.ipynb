{
 "cells": [
  {
   "cell_type": "code",
   "execution_count": 2,
   "id": "2ad9a6f7",
   "metadata": {},
   "outputs": [
    {
     "name": "stdout",
     "output_type": "stream",
     "text": [
      "API Key configured: True\n"
     ]
    }
   ],
   "source": [
    "from dotenv import load_dotenv\n",
    "import os\n",
    "from openai import OpenAI\n",
    "# .env 파일에서 환경 변수를 불러옵니다.\n",
    "load_dotenv()\n",
    "\n",
    "# 환경 변수 읽기\n",
    "openai_api_key = os.getenv(\"OPENAI_API_KEY\")\n",
    "\n",
    "# OpenAI 라이브러리가 환경 변수에서 키를 읽을 수 있도록 설정\n",
    "if openai_api_key:\n",
    "    os.environ[\"OPENAI_API_KEY\"] = openai_api_key\n",
    "\n",
    "print(\"API Key configured:\", \"OPENAI_API_KEY\" in os.environ)"
   ]
  },
  {
   "cell_type": "code",
   "execution_count": 3,
   "id": "3c3efd0d",
   "metadata": {},
   "outputs": [],
   "source": [
    "client = OpenAI()\n",
    "response = client.chat.completions.create(\n",
    "  model=\"gpt-4o-mini\", #omni  model\n",
    "  messages=[\n",
    "      {'role':'user', 'content':'파이썬에 대해 알려줘'}\n",
    "  ]\n",
    "  )\n"
   ]
  },
  {
   "cell_type": "code",
   "execution_count": 7,
   "id": "1436db72",
   "metadata": {},
   "outputs": [
    {
     "name": "stdout",
     "output_type": "stream",
     "text": [
      "ChatGPT 답변: 오늘 점심으로 어떤 메뉴를 드시는 게 좋을까요? 몇 가지 추천해드릴게요!\n",
      "\n",
      "1. **비빔밥** - 다양한 채소와 고기를 곁들인 비빔밥은 맛도 좋고 영양도 가득합니다.\n",
      "2. **김치찌개** - 따뜻한 김치찌개에 밥 한 공기를 더하면 든든한 점심이 될 거예요.\n",
      "3. **치킨 샐러드** - 건강하게 먹고 싶다면 구운 치킨과 신선한 채소로 구성된 샐러드도 좋은 선택입니다.\n",
      "4. **떡볶이와 튀김** - 매콤한 떡볶이와 바삭한 튀김은 간편하면서도 맛있는 점심이 됩니다.\n",
      "5. **파스타** - 크림소스나 토마토소스 파스타를 즐기면 간단하지만 맛있게 해결할 수 있어요.\n",
      "\n",
      "어떤 메뉴가 마음에 드시나요? 추가적인 조정이나 다른 종류의 추천이 필요하시면 말씀해 주세요!\n"
     ]
    }
   ],
   "source": [
    "message={'role':'user', 'content':'오늘 점심메뉴 추천 좀 '}\n",
    "response = client.chat.completions.create(\n",
    "  model=\"gpt-4o-mini\", #omni  model\n",
    "  messages=[\n",
    "      message\n",
    "  ]\n",
    "  )\n",
    "assistant_reply = response.choices[0].message.content\n",
    "print('ChatGPT 답변:', assistant_reply)"
   ]
  },
  {
   "cell_type": "markdown",
   "id": "15075a8f",
   "metadata": {},
   "source": [
    "# 출력 형식 지정"
   ]
  },
  {
   "cell_type": "code",
   "execution_count": 9,
   "id": "c8f0f7ba",
   "metadata": {},
   "outputs": [
    {
     "name": "stdout",
     "output_type": "stream",
     "text": [
      "ChatGPT 답변: {\n",
      "  \"weather\": \"맑음\",\n",
      "  \"temperature\": \"15°C\"\n",
      "}\n"
     ]
    }
   ],
   "source": [
    "message={'role':'user', 'content':'오늘 서울날씨 json형태로 제공해 키는 weather,temperature 로 설정해'}\n",
    "response = client.chat.completions.create(\n",
    "  model=\"gpt-4o-mini\", #omni  model\n",
    "  messages=[\n",
    "      message\n",
    "  ],\n",
    "  response_format = {'type':'json_object'}\n",
    "  )\n",
    "assistant_reply = response.choices[0].message.content\n",
    "print('ChatGPT 답변:', assistant_reply)"
   ]
  },
  {
   "cell_type": "code",
   "execution_count": 5,
   "id": "c5f01b48",
   "metadata": {},
   "outputs": [
    {
     "name": "stdout",
     "output_type": "stream",
     "text": [
      "ChatGPT 답변: {\n",
      "  \"weather\": {\n",
      "    \"seoul\": {\n",
      "      \"weather\": \"맑음\",\n",
      "      \"temperature\": \"20°C\"\n",
      "    },\n",
      "    \"busan\": {\n",
      "      \"weather\": \"구름 많음\",\n",
      "      \"temperature\": \"22°C\"\n",
      "    }\n",
      "  }\n",
      "}\n",
      "\n",
      "  \n",
      " \n",
      "\n",
      " \n"
     ]
    }
   ],
   "source": [
    "message={'role':'user', 'content':'오늘 서울, 부산날씨 json형태로 제공해 키는 weather,temperature 로 설정해 날씨는 기상청을 참고해서꺼내'}\n",
    "response = client.chat.completions.create(\n",
    "  model=\"gpt-4o-mini\", #omni  model\n",
    "  messages=[\n",
    "      message\n",
    "  ],\n",
    "  response_format = {'type':'json_object'}\n",
    "  )\n",
    "assistant_reply = response.choices[0].message.content\n",
    "print('ChatGPT 답변:', assistant_reply)"
   ]
  },
  {
   "cell_type": "code",
   "execution_count": 7,
   "id": "1fd2fad7",
   "metadata": {},
   "outputs": [
    {
     "data": {
      "text/plain": [
       "dict_keys(['weather'])"
      ]
     },
     "execution_count": 7,
     "metadata": {},
     "output_type": "execute_result"
    }
   ],
   "source": [
    "import json\n",
    "data = json.loads(assistant_reply)\n",
    "data.keys()"
   ]
  },
  {
   "cell_type": "code",
   "execution_count": 8,
   "id": "eaf19122",
   "metadata": {},
   "outputs": [
    {
     "name": "stdout",
     "output_type": "stream",
     "text": [
      "ChatGPT 답변: 오늘 서울의 날씨는 현재 맑고, 온도는 약 20도입니다. (참고로 실제 날씨 정보는 확인해 주셔야 합니다.)\n"
     ]
    }
   ],
   "source": [
    "# 도시 x의 날씨는 현재 .. 이고, 온도는 .. 입니다\n",
    "message={'role':'user', 'content':'오늘 Seoul의 날씨를 \"도시 의 날씨는 현재 .. 이고, 온도는 .. 입니다\"의 형태로 반환'}\n",
    "response = client.chat.completions.create(\n",
    "  model=\"gpt-4o-mini\", #omni  model\n",
    "  messages=[\n",
    "      message\n",
    "  ]\n",
    "  )\n",
    "assistant_reply = response.choices[0].message.content\n",
    "print('ChatGPT 답변:', assistant_reply)"
   ]
  },
  {
   "cell_type": "code",
   "execution_count": null,
   "id": "1b4c5277",
   "metadata": {},
   "outputs": [
    {
     "name": "stdout",
     "output_type": "stream",
     "text": [
      "{\"weather\": {\n",
      "    \"New York\": {\n",
      "        \"temperature\": \"18°C\",\n",
      "        \"description\": \"Sunny\"\n",
      "    },\n",
      "    \"Boston\": {\n",
      "        \"temperature\": \"16°C\",\n",
      "        \"description\": \"Partly cloudy\"\n",
      "    },\n",
      "    \"Toronto\": {\n",
      "        \"temperature\": \"15°C\",\n",
      "        \"description\": \"Rain\"\n",
      "    }\n",
      "}}\n",
      "weather 의 날씨는 None 이고 온도는 None 입니다.\n"
     ]
    }
   ],
   "source": [
    "messages = {\"role\": \"user\", \"content\": \"(뉴욕, 보스턴, 토론토)의 날씨를 json형태로 제공해 키는 weather,temperature 로 설정\"}\n",
    "res = client.chat.completions.create(\n",
    "    model=\"gpt-4o-mini\",\n",
    "    messages=[messages],\n",
    "    response_format={\"type\": \"json_object\"}\n",
    ")\n",
    "reply = res.choices[0].message.content\n",
    "print(reply)\n",
    "mission = json.loads(reply)"
   ]
  },
  {
   "cell_type": "code",
   "execution_count": 24,
   "id": "dbdf0887",
   "metadata": {},
   "outputs": [
    {
     "name": "stdout",
     "output_type": "stream",
     "text": [
      "New York 의 날씨는 Sunny 이고 온도는 18°C 입니다.\n",
      "Boston 의 날씨는 Partly cloudy 이고 온도는 16°C 입니다.\n",
      "Toronto 의 날씨는 Rain 이고 온도는 15°C 입니다.\n"
     ]
    }
   ],
   "source": [
    "for city, info in mission['weather'].items():\n",
    "    print(f\"{city} 의 날씨는 {info.get('description')} 이고 온도는 {info.get('temperature')} 입니다.\")"
   ]
  },
  {
   "cell_type": "markdown",
   "id": "9868bfba",
   "metadata": {},
   "source": [
    "# CoT 프롬프트"
   ]
  },
  {
   "cell_type": "code",
   "execution_count": 19,
   "id": "010b22ad",
   "metadata": {},
   "outputs": [
    {
     "name": "stdout",
     "output_type": "stream",
     "text": [
      "cot 적용전:  처음에 사과가 10개 있었고, 3개를 먹었으니 남은 사과는 10 - 3 = 7개입니다. 그 후에 5개를 더 구입했으니, 7 + 5 = 12개가 됩니다. 따라서 현재 사과는 12개가 남았습니다.\n"
     ]
    }
   ],
   "source": [
    "question = '사과 10개 가지고 있었는데 그 중 3개를 먹은 뒤에 5개를 더 구입했어 그럼 사과는 몇개가 남았어?'\n",
    "res = client.chat.completions.create(\n",
    "    model=\"gpt-4o-mini\",\n",
    "  messages=[\n",
    "      {'role':'user', 'content':question}\n",
    "  ],\n",
    "    temperature=0\n",
    ")\n",
    "print('cot 적용전: ', res.choices[0].message.content)"
   ]
  },
  {
   "cell_type": "code",
   "execution_count": 20,
   "id": "91bc118a",
   "metadata": {},
   "outputs": [
    {
     "name": "stdout",
     "output_type": "stream",
     "text": [
      "cot 적용전:  단계별로 생각해보겠습니다.\n",
      "\n",
      "1. 처음에 사과가 10개 있었습니다.\n",
      "2. 그 중 3개를 먹었습니다. \n",
      "   - 10개 - 3개 = 7개\n",
      "3. 이후에 5개를 더 구입했습니다.\n",
      "   - 7개 + 5개 = 12개\n",
      "\n",
      "결론적으로, 사과는 12개가 남았습니다.\n"
     ]
    }
   ],
   "source": [
    "question = '사과 10개 가지고 있었는데 그 중 3개를 먹은 뒤에 5개를 더 구입했어 그럼 사과는 몇개가 남았어?'\n",
    "cot_prompt= '(생각을 단계별로 진행해)\\n' + question\n",
    "res = client.chat.completions.create(\n",
    "    model=\"gpt-4o-mini\",\n",
    "  messages=[\n",
    "      {'role':'user', 'content':cot_prompt}\n",
    "  ],\n",
    "    temperature=0\n",
    ")\n",
    "print('cot 적용전: ', res.choices[0].message.content)"
   ]
  },
  {
   "cell_type": "code",
   "execution_count": 22,
   "id": "4400e0d9",
   "metadata": {},
   "outputs": [
    {
     "name": "stdout",
     "output_type": "stream",
     "text": [
      "cot 적용전:  어떤 수를 \\( x \\)라고 할 때, 문제에서 주어진 조건을 식으로 표현하면 다음과 같습니다.\n",
      "\n",
      "\\[\n",
      "3x + 4 = 19\n",
      "\\]\n",
      "\n",
      "이제 이 식을 풀어보겠습니다.\n",
      "\n",
      "1. 양변에서 4를 빼줍니다.\n",
      "\n",
      "\\[\n",
      "3x = 19 - 4\n",
      "\\]\n",
      "\\[\n",
      "3x = 15\n",
      "\\]\n",
      "\n",
      "2. 양변을 3으로 나눕니다.\n",
      "\n",
      "\\[\n",
      "x = \\frac{15}{3}\n",
      "\\]\n",
      "\\[\n",
      "x = 5\n",
      "\\]\n",
      "\n",
      "따라서, 그 수는 \\( 5 \\)입니다.\n"
     ]
    }
   ],
   "source": [
    "question = '어떤 수를 3배한 결과에 4를 더하면 19이 됩니다. 그 수는 무엇일까요?'\n",
    "res = client.chat.completions.create(\n",
    "    model=\"gpt-4o-mini\",\n",
    "  messages=[\n",
    "      {'role':'user', 'content':question}\n",
    "  ],\n",
    "    temperature=0\n",
    ")\n",
    "print('cot 적용전: ', res.choices[0].message.content)"
   ]
  },
  {
   "cell_type": "markdown",
   "id": "6386cf48",
   "metadata": {},
   "source": [
    "# Self-Consistency 디코딩"
   ]
  },
  {
   "cell_type": "code",
   "execution_count": 29,
   "id": "340a4fd1",
   "metadata": {},
   "outputs": [
    {
     "name": "stdout",
     "output_type": "stream",
     "text": [
      " 응답 1 : 어떤 수를 \\( x \\)라고 할 때, 문제의 조건을 식으로 표현할 수 있습니다:\n",
      "\n",
      "\\[\n",
      "3x + 4 = 19\n",
      "\\]\n",
      "\n",
      "이제 이 식을 풀어보겠습니다. 먼저, 양변에서 4를 빼줍니다:\n",
      "\n",
      "\\[\n",
      "3x = 19 - 4\n",
      "\\]\n",
      "\\[\n",
      "3x = 15\n",
      "\\]\n",
      "\n",
      "그 다음, 양쪽을 3으로 나누어 줍니다:\n",
      "\n",
      "\\[\n",
      "x = \\frac{15}{3}\n",
      "\\]\n",
      "\\[\n",
      "x = 5\n",
      "\\]\n",
      "\n",
      "따라서, 그 수는 \\( 5 \\)입니다.\n",
      " 응답 2 : 어떤 수를 \\( x \\)라고 했을 때, 문제에서 주어진 조건을 방정식으로 표현할 수 있습니다. \n",
      "\n",
      "3배한 결과에 4를 더하면 19가 된다는 것은 다음과 같은 방정식으로 나타낼 수 있습니다:\n",
      "\n",
      "\\[ 3x + 4 = 19 \\]\n",
      "\n",
      "이 방정식을 풀기 위해, 먼저 양쪽에서 4를 빼줍니다:\n",
      "\n",
      "\\[ 3x = 19 - 4 \\]\n",
      "\n",
      "\\[ 3x = 15 \\]\n",
      "\n",
      "그 다음, 양쪽을 3으로 나누어 \\( x \\) 값을 구합니다:\n",
      "\n",
      "\\[ x = \\frac{15}{3} \\]\n",
      "\n",
      "\\[ x = 5 \\]\n",
      "\n",
      "따라서, 그 수는 \\( 5 \\)입니다.\n",
      " 응답 3 : 어떤 수를 \\( x \\)라고 가정합시다. 주어진 조건을 식으로 표현하면 다음과 같습니다.\n",
      "\n",
      "\\[\n",
      "3x + 4 = 19\n",
      "\\]\n",
      "\n",
      "이제 이 식을 풀어보겠습니다. 먼저 양쪽에서 4를 빼줍니다.\n",
      "\n",
      "\\[\n",
      "3x = 19 - 4\n",
      "\\]\n",
      "\n",
      "\\[\n",
      "3x = 15\n",
      "\\]\n",
      "\n",
      "그 다음 양쪽을 3으로 나누면,\n",
      "\n",
      "\\[\n",
      "x = \\frac{15}{3}\n",
      "\\]\n",
      "\n",
      "\\[\n",
      "x = 5\n",
      "\\]\n",
      "\n",
      "따라서 그 수는 \\( 5 \\)입니다.\n",
      " 응답 4 : 문제를 수식으로 표현해보겠습니다. 어떤 수를 \\( x \\)라 할 때, 주어진 조건을 수식으로 나타내면 다음과 같습니다:\n",
      "\n",
      "\\[ 3x + 4 = 19 \\]\n",
      "\n",
      "이 식을 풀어보겠습니다.\n",
      "\n",
      "1. 양변에서 4를 빼줍니다:\n",
      "\n",
      "\\[ 3x = 19 - 4 \\]\n",
      "\\[ 3x = 15 \\]\n",
      "\n",
      "2. 양변을 3으로 나누어 줍니다:\n",
      "\n",
      "\\[ x = \\frac{15}{3} \\]\n",
      "\\[ x = 5 \\]\n",
      "\n",
      "따라서, 그 수는 **5**입니다.\n",
      " 응답 5 : 문제를 수식으로 표현해봅시다. 어떤 수를 \\( x \\)라고 하면, 주어진 조건에 따라 다음과 같이 식을 세울 수 있습니다:\n",
      "\n",
      "\\[ 3x + 4 = 19 \\]\n",
      "\n",
      "이제 이 식을 풀어보겠습니다.\n",
      "\n",
      "1. 양변에서 4를 빼줍니다:\n",
      "   \\[\n",
      "   3x = 19 - 4\n",
      "   \\]\n",
      "   \\[\n",
      "   3x = 15\n",
      "   \\]\n",
      "\n",
      "2. 이제 양변을 3으로 나눕니다:\n",
      "   \\[\n",
      "   x = \\frac{15}{3}\n",
      "   \\]\n",
      "   \\[\n",
      "   x = 5\n",
      "   \\]\n",
      "\n",
      "따라서, 그 수는 \\( 5 \\)입니다.\n"
     ]
    }
   ],
   "source": [
    "question = '어떤 수를 3배한 결과에 4를 더하면 19이 됩니다. 그 수는 무엇일까요?'\n",
    "message=[{'role':'user', 'content': question}]\n",
    "answers = []\n",
    "   \n",
    "for i in range(5):\n",
    "    res = client.chat.completions.create(\n",
    "    model=\"gpt-4o-mini\",\n",
    "    messages=message,\n",
    "    temperature=1.0\n",
    "    )\n",
    "    answer = res.choices[0].message.content.strip()\n",
    "    answers.append(answer)\n",
    "    print(f' 응답 {i+1} : {answer}')"
   ]
  },
  {
   "cell_type": "code",
   "execution_count": 31,
   "id": "a7ebf2f0",
   "metadata": {},
   "outputs": [
    {
     "name": "stdout",
     "output_type": "stream",
     "text": [
      "최종답: \\)입니다.\n"
     ]
    }
   ],
   "source": [
    "final_answer = [ans.split()[-1] for ans in answers]\n",
    "import collections\n",
    "counter = collections.Counter(final_answer)\n",
    "fans = counter.most_common(1)[0][0]\n",
    "print(f'최종답: {fans}')"
   ]
  },
  {
   "cell_type": "markdown",
   "id": "d434a5ca",
   "metadata": {},
   "source": [
    "# Reflexion (자기 피드백 반복 프롬프트 설계)"
   ]
  },
  {
   "cell_type": "code",
   "execution_count": 33,
   "id": "f755d45c",
   "metadata": {},
   "outputs": [
    {
     "name": "stdout",
     "output_type": "stream",
     "text": [
      "정답입니다\n"
     ]
    }
   ],
   "source": [
    "question = '7의 2승에 5을 곱한 값'\n",
    "res = client.chat.completions.create(\n",
    "    model=\"gpt-4o-mini\",\n",
    "  messages=[\n",
    "      {'role':'user', 'content':question}\n",
    "  ],\n",
    "    temperature=0\n",
    ")\n",
    "answer = res.choices[0].message.content.strip()\n",
    "correct_answer = 245\n",
    "if str(correct_answer) in answer:\n",
    "    feedback = '정답입니다'\n",
    "    need_retry = False\n",
    "    \n",
    "else:\n",
    "    feedback = '틀렸어요. 힌트는 7의 제곱값을 정확히 구한 다음 곱하세요'\n",
    "    need_retry = True\n",
    "print(feedback)"
   ]
  },
  {
   "cell_type": "code",
   "execution_count": 38,
   "id": "2eb90995",
   "metadata": {},
   "outputs": [
    {
     "name": "stdout",
     "output_type": "stream",
     "text": [
      "틀렸어요. 힌트는 7의 제곱값을 정확히 구한 다음 곱하세요\n",
      "49\n"
     ]
    }
   ],
   "source": [
    "question = '7의 2승에 5을 곱한 값'\n",
    "res = client.chat.completions.create(\n",
    "    model=\"gpt-3.5-turbo\",\n",
    "  messages=[\n",
    "      {'role':'user', 'content':question}\n",
    "  ],\n",
    "    temperature=0\n",
    ")\n",
    "answer = res.choices[0].message.content.strip()\n",
    "correct_answer = 245\n",
    "if str(correct_answer) in answer:\n",
    "    feedback = '정답입니다'\n",
    "    need_retry = False\n",
    "    \n",
    "else:\n",
    "    feedback = '틀렸어요. 힌트는 7의 제곱값을 정확히 구한 다음 곱하세요'\n",
    "    need_retry = True\n",
    "print(feedback)\n",
    "print(answer)"
   ]
  },
  {
   "cell_type": "code",
   "execution_count": null,
   "id": "7826c653",
   "metadata": {},
   "outputs": [
    {
     "name": "stdout",
     "output_type": "stream",
     "text": [
      "7의 2승은 49이고, 여기에 5를 곱하면 245가 됩니다.\n"
     ]
    }
   ],
   "source": [
    "if need_retry:\n",
    "    retry_prompt = f'이전 답변 : {answer}, 피드백 : {feedback} \\n 다시 답을 구하세요'\n",
    "    res2 = client.chat.completions.create(\n",
    "    model=\"gpt-3.5-turbo\",\n",
    "    messages=[\n",
    "        {'role':'user', 'content':question}\n",
    "    ],\n",
    "    temperature=1\n",
    "    )\n",
    "    answer2 = res2.choices[0].message.content.strip()\n",
    "    print(answer2)"
   ]
  },
  {
   "cell_type": "code",
   "execution_count": 42,
   "id": "b15c59aa",
   "metadata": {},
   "outputs": [
    {
     "name": "stdout",
     "output_type": "stream",
     "text": [
      "### 기후변화의 원인과 해결방안\n",
      "\n",
      "기후변화는 현대 사회가 직면한 가장 심각한 환경문제 중 하나로, 지구의 평균 기온 상승과 이로 인해 발생하는 다양한 이상 기후 현상을 포함합니다. 기후변화의 주요 원인은 인간 활동에 의해 발생한 온실가스의 배출입니다. 산업화, 도시화, 그리고 화석연료의 사용 증가는 이산화탄소(CO2), 메탄(CH4) 등 온실가스를 대량으로 방출하게 되었고, 이는 지구의 온도를 상승시키는 주된 요인으로 작용하고 있습니다.\n",
      "\n",
      "기후변화의 결과로는 해수면 상승, 극단적인 기후현상(폭염, 폭우, 가뭄 등) 및 생태계 변화 등이 있습니다. 이러한 변화는 자연환경뿐만 아니라 인류의 생활에도 심각한 영향을 미치고 있습니다. 농업 생산성이 저하되고, 식수자원 부족이 심화되며, 질병의 확산 등이 그 예입니다.\n",
      "\n",
      "기후변화를 해결하기 위해서는 다각적인 접근이 필요합니다. 첫째, 에너지 효율을 높이고 재생 가능 에너지원(태양광, 풍력 등)을 적극적으로 활용해야 합니다. 둘째, 교통수단의 전환과 대중교통 시스템 개선을 통해 화석연료 사용을 줄여야 합니다. 셋째, 나무 심기 및 산림 보호를 통한 탄소 흡수 능력을 증가시켜야 합니다. 넷째, 국가 간 협력과 정책적 노력이 필요합니다. 국제적인 기후 협약, 예를 들어 파리협정과 같은 기후 변화 대응에 대한 공동의 약속을 통해 세계 각국이 한 방향으로 나아가야 합니다.\n",
      "\n",
      "결론적으로, 기후변화는 인류의 생존에 직접적인 위협을 주는 문제로, 이를 해결하기 위한 노력이 절실합니다. 개인의 작은 행동에서부터 정부 및 국제 사회의 정책적 대응까지, 모든 주체가 협력해 지속 가능한 미래를 만들어가야 할 것입니다.\n"
     ]
    }
   ],
   "source": [
    "prompt = [{'role':'user', 'content':'기후변화의 원인과 해결방안에 대한 간략한 에세이를 작성하세요'}]\n",
    "res3 = client.chat.completions.create(\n",
    "    model='gpt-4o-mini',\n",
    "    messages=prompt,\n",
    "    temperature=1.0 \n",
    ")\n",
    "answer3 = res3.choices[0].message.content.strip()\n",
    "print(answer3)"
   ]
  },
  {
   "cell_type": "code",
   "execution_count": 44,
   "id": "cef0ee6e",
   "metadata": {},
   "outputs": [
    {
     "name": "stdout",
     "output_type": "stream",
     "text": [
      "**기후변화의 원인과 해결방안**\n",
      "\n",
      "기후변화는 현대 인류가 직면한 가장 심각한 환경적 도전 중 하나로, 지구의 평균 기온 상승, 해수면 상승, 극단적인 날씨 현상 등 다양한 형태로 나타납니다. 이러한 기후변화의 주요 원인은 온실가스의 배출 증가로, 이는 주로 화석 연료의 연소, 산업 활동, 농업, 그리고 임업 등 인간 활동에서 기인합니다. 특히 이산화탄소(CO2), 메탄(CH4), 그리고 아산화질소(N2O)와 같은 온실가스는 대기 중에 축적되어 지구의 열을 가두는 역할을 합니다.\n",
      "\n",
      "기후변화의 해결을 위해서는 여러 가지 접근이 필요합니다. 첫 번째로, 에너지 전환이 중요합니다. 화석 연료에서 재생 가능 에너지로의 전환을 통해 온실가스 배출을 줄일 수 있습니다. 태양광, 풍력, 수력 등 청정 에너지원의 활용을 확대해야 합니다.\n",
      "\n",
      "두 번째로, 효율적인 에너지 사용이 필요합니다. 건축물, 교통수단, 산업 분야에서 에너지 효율성을 높이는 기술과 정책을 도입하여 에너지 소비를 줄일 수 있습니다. 예를 들어, 에너지 효율이 높은 가전제품을 사용하고 대중교통을 이용하는 습관을 기르는 것이 좋습니다.\n",
      "\n",
      "세 번째로, 자연 기반 해결책(Nature-based Solutions)을 통해 탄소를 흡수하는 생태계를 보호하고 복원하는 것이 필요합니다. 산림을 보호하고, 도시 녹지를 확장하며, 농업에서 지속 가능한 방법을 채택하여 자연의 탄소 흡수 능력을 높여야 합니다.\n",
      "\n",
      "마지막으로, 국제적인 협력이 필수적입니다. 각국 정부, 기업, 그리고 시민들이 협력하여 기후 변화 대응을 위한 정책을 수립하고 실천해야 합니다. 파리협약과 같은 국제적 합의는 이러한 협력의 밑바탕이 됩니다.\n",
      "\n",
      "결론적으로, 기후변화는 인류가 함께 해결해야 할 문제입니다. 지속 가능한 발전과 환경 보호를 위한 실천을 통해 우리는 지구를 지키고 후세에 아름다운 자연을 물려줄 수 있습니다. 기후변화는 단순한 환경 문제를 넘어 우리 모든 삶과 미래에 걸쳐 있는 요소임을 염두에 두고 행동해야 할 때입니다.\n"
     ]
    }
   ],
   "source": [
    "correct_answer = '전력소비'\n",
    "if correct_answer in answer3:\n",
    "    feedback = '정답입니다'\n",
    "    need_retry = False\n",
    "    \n",
    "else:\n",
    "    feedback = '전력 소비 내용을 포함해서 서술하시오'\n",
    "    need_retry = True\n",
    "\n",
    "if need_retry:\n",
    "    retry_prompt = f'이전 답변 : {answer3}, 피드백 : {feedback} \\n 다시 답을 구하세요'\n",
    "    res4 = client.chat.completions.create(\n",
    "    model=\"gpt-4o-mini\",\n",
    "    messages=prompt,\n",
    "    temperature=1\n",
    "    )\n",
    "    answer4 = res4.choices[0].message.content.strip()\n",
    "    print(answer4)"
   ]
  },
  {
   "cell_type": "code",
   "execution_count": null,
   "id": "6facd8c4",
   "metadata": {},
   "outputs": [],
   "source": []
  }
 ],
 "metadata": {
  "kernelspec": {
   "display_name": "prompting_env",
   "language": "python",
   "name": "python3"
  },
  "language_info": {
   "codemirror_mode": {
    "name": "ipython",
    "version": 3
   },
   "file_extension": ".py",
   "mimetype": "text/x-python",
   "name": "python",
   "nbconvert_exporter": "python",
   "pygments_lexer": "ipython3",
   "version": "3.12.11"
  }
 },
 "nbformat": 4,
 "nbformat_minor": 5
}

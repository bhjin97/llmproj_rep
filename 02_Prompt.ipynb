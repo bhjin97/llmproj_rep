{
 "cells": [
  {
   "cell_type": "code",
   "execution_count": 2,
   "id": "2ad9a6f7",
   "metadata": {},
   "outputs": [
    {
     "name": "stdout",
     "output_type": "stream",
     "text": [
      "API Key configured: True\n"
     ]
    }
   ],
   "source": [
    "from dotenv import load_dotenv\n",
    "import os\n",
    "from openai import OpenAI\n",
    "# .env 파일에서 환경 변수를 불러옵니다.\n",
    "load_dotenv()\n",
    "\n",
    "# 환경 변수 읽기\n",
    "openai_api_key = os.getenv(\"OPENAI_API_KEY\")\n",
    "\n",
    "# OpenAI 라이브러리가 환경 변수에서 키를 읽을 수 있도록 설정\n",
    "if openai_api_key:\n",
    "    os.environ[\"OPENAI_API_KEY\"] = openai_api_key\n",
    "\n",
    "print(\"API Key configured:\", \"OPENAI_API_KEY\" in os.environ)"
   ]
  },
  {
   "cell_type": "code",
   "execution_count": 3,
   "id": "3c3efd0d",
   "metadata": {},
   "outputs": [],
   "source": [
    "client = OpenAI()\n",
    "response = client.chat.completions.create(\n",
    "  model=\"gpt-4o-mini\", #omni  model\n",
    "  messages=[\n",
    "      {'role':'user', 'content':'파이썬에 대해 알려줘'}\n",
    "  ]\n",
    "  )\n"
   ]
  },
  {
   "cell_type": "code",
   "execution_count": 7,
   "id": "1436db72",
   "metadata": {},
   "outputs": [
    {
     "name": "stdout",
     "output_type": "stream",
     "text": [
      "ChatGPT 답변: 오늘 점심으로 어떤 메뉴를 드시는 게 좋을까요? 몇 가지 추천해드릴게요!\n",
      "\n",
      "1. **비빔밥** - 다양한 채소와 고기를 곁들인 비빔밥은 맛도 좋고 영양도 가득합니다.\n",
      "2. **김치찌개** - 따뜻한 김치찌개에 밥 한 공기를 더하면 든든한 점심이 될 거예요.\n",
      "3. **치킨 샐러드** - 건강하게 먹고 싶다면 구운 치킨과 신선한 채소로 구성된 샐러드도 좋은 선택입니다.\n",
      "4. **떡볶이와 튀김** - 매콤한 떡볶이와 바삭한 튀김은 간편하면서도 맛있는 점심이 됩니다.\n",
      "5. **파스타** - 크림소스나 토마토소스 파스타를 즐기면 간단하지만 맛있게 해결할 수 있어요.\n",
      "\n",
      "어떤 메뉴가 마음에 드시나요? 추가적인 조정이나 다른 종류의 추천이 필요하시면 말씀해 주세요!\n"
     ]
    }
   ],
   "source": [
    "message={'role':'user', 'content':'오늘 점심메뉴 추천 좀 '}\n",
    "response = client.chat.completions.create(\n",
    "  model=\"gpt-4o-mini\", #omni  model\n",
    "  messages=[\n",
    "      message\n",
    "  ]\n",
    "  )\n",
    "assistant_reply = response.choices[0].message.content\n",
    "print('ChatGPT 답변:', assistant_reply)"
   ]
  },
  {
   "cell_type": "markdown",
   "id": "15075a8f",
   "metadata": {},
   "source": [
    "# 출력 형식 지정"
   ]
  },
  {
   "cell_type": "code",
   "execution_count": 9,
   "id": "c8f0f7ba",
   "metadata": {},
   "outputs": [
    {
     "name": "stdout",
     "output_type": "stream",
     "text": [
      "ChatGPT 답변: {\n",
      "  \"weather\": \"맑음\",\n",
      "  \"temperature\": \"15°C\"\n",
      "}\n"
     ]
    }
   ],
   "source": [
    "message={'role':'user', 'content':'오늘 서울날씨 json형태로 제공해 키는 weather,temperature 로 설정해'}\n",
    "response = client.chat.completions.create(\n",
    "  model=\"gpt-4o-mini\", #omni  model\n",
    "  messages=[\n",
    "      message\n",
    "  ],\n",
    "  response_format = {'type':'json_object'}\n",
    "  )\n",
    "assistant_reply = response.choices[0].message.content\n",
    "print('ChatGPT 답변:', assistant_reply)"
   ]
  },
  {
   "cell_type": "code",
   "execution_count": 5,
   "id": "c5f01b48",
   "metadata": {},
   "outputs": [
    {
     "name": "stdout",
     "output_type": "stream",
     "text": [
      "ChatGPT 답변: {\n",
      "  \"weather\": {\n",
      "    \"seoul\": {\n",
      "      \"weather\": \"맑음\",\n",
      "      \"temperature\": \"20°C\"\n",
      "    },\n",
      "    \"busan\": {\n",
      "      \"weather\": \"구름 많음\",\n",
      "      \"temperature\": \"22°C\"\n",
      "    }\n",
      "  }\n",
      "}\n",
      "\n",
      "  \n",
      " \n",
      "\n",
      " \n"
     ]
    }
   ],
   "source": [
    "message={'role':'user', 'content':'오늘 서울, 부산날씨 json형태로 제공해 키는 weather,temperature 로 설정해 날씨는 기상청을 참고해서꺼내'}\n",
    "response = client.chat.completions.create(\n",
    "  model=\"gpt-4o-mini\", #omni  model\n",
    "  messages=[\n",
    "      message\n",
    "  ],\n",
    "  response_format = {'type':'json_object'}\n",
    "  )\n",
    "assistant_reply = response.choices[0].message.content\n",
    "print('ChatGPT 답변:', assistant_reply)"
   ]
  },
  {
   "cell_type": "code",
   "execution_count": 7,
   "id": "1fd2fad7",
   "metadata": {},
   "outputs": [
    {
     "data": {
      "text/plain": [
       "dict_keys(['weather'])"
      ]
     },
     "execution_count": 7,
     "metadata": {},
     "output_type": "execute_result"
    }
   ],
   "source": [
    "import json\n",
    "data = json.loads(assistant_reply)\n",
    "data.keys()"
   ]
  },
  {
   "cell_type": "code",
   "execution_count": 8,
   "id": "eaf19122",
   "metadata": {},
   "outputs": [
    {
     "name": "stdout",
     "output_type": "stream",
     "text": [
      "ChatGPT 답변: 오늘 서울의 날씨는 현재 맑고, 온도는 약 20도입니다. (참고로 실제 날씨 정보는 확인해 주셔야 합니다.)\n"
     ]
    }
   ],
   "source": [
    "# 도시 x의 날씨는 현재 .. 이고, 온도는 .. 입니다\n",
    "message={'role':'user', 'content':'오늘 Seoul의 날씨를 \"도시 의 날씨는 현재 .. 이고, 온도는 .. 입니다\"의 형태로 반환'}\n",
    "response = client.chat.completions.create(\n",
    "  model=\"gpt-4o-mini\", #omni  model\n",
    "  messages=[\n",
    "      message\n",
    "  ]\n",
    "  )\n",
    "assistant_reply = response.choices[0].message.content\n",
    "print('ChatGPT 답변:', assistant_reply)"
   ]
  },
  {
   "cell_type": "code",
   "execution_count": null,
   "id": "1b4c5277",
   "metadata": {},
   "outputs": [],
   "source": []
  }
 ],
 "metadata": {
  "kernelspec": {
   "display_name": "prompting_env",
   "language": "python",
   "name": "python3"
  },
  "language_info": {
   "codemirror_mode": {
    "name": "ipython",
    "version": 3
   },
   "file_extension": ".py",
   "mimetype": "text/x-python",
   "name": "python",
   "nbconvert_exporter": "python",
   "pygments_lexer": "ipython3",
   "version": "3.12.11"
  }
 },
 "nbformat": 4,
 "nbformat_minor": 5
}

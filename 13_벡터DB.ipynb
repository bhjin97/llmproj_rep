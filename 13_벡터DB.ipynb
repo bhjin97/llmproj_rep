{
 "cells": [
  {
   "cell_type": "code",
   "execution_count": 2,
   "id": "94be1753",
   "metadata": {},
   "outputs": [],
   "source": [
    "from dotenv import load_dotenv\n",
    "import os\n",
    "from openai import OpenAI\n",
    "import langchain \n",
    "load_dotenv()\n",
    "apikey = os.getenv(\"PINECONE_API_KEY\")"
   ]
  },
  {
   "cell_type": "code",
   "execution_count": 3,
   "id": "c2e08394",
   "metadata": {},
   "outputs": [
    {
     "data": {
      "text/plain": [
       "<pinecone.pinecone.Pinecone at 0x163bfb20170>"
      ]
     },
     "execution_count": 3,
     "metadata": {},
     "output_type": "execute_result"
    }
   ],
   "source": [
    "from pinecone import Pinecone\n",
    "# 클라이언트 생성\n",
    "pinecone_client = Pinecone(api_key=apikey)\n",
    "pinecone_client"
   ]
  },
  {
   "cell_type": "code",
   "execution_count": null,
   "id": "23fee394",
   "metadata": {},
   "outputs": [],
   "source": [
    "from pinecone import ServerlessSpec\n",
    "pinecone_client.create_index(\n",
    "    name='embedding-3d',\n",
    "    dimension=3,\n",
    "    metric='cosine',\n",
    "    spec=ServerlessSpec(\n",
    "        cloud='aws',\n",
    "        region='us-east-1'\n",
    "    )\n",
    ")"
   ]
  },
  {
   "cell_type": "markdown",
   "id": "d3e00294",
   "metadata": {},
   "source": [
    "# index create"
   ]
  },
  {
   "cell_type": "code",
   "execution_count": 4,
   "id": "d6455b42",
   "metadata": {},
   "outputs": [
    {
     "name": "stderr",
     "output_type": "stream",
     "text": [
      "c:\\Users\\Admin\\miniconda3\\envs\\prompting_env\\Lib\\site-packages\\tqdm\\auto.py:21: TqdmWarning: IProgress not found. Please update jupyter and ipywidgets. See https://ipywidgets.readthedocs.io/en/stable/user_install.html\n",
      "  from .autonotebook import tqdm as notebook_tqdm\n"
     ]
    },
    {
     "data": {
      "text/plain": [
       "<pinecone.db_data.index.Index at 0x163c1351820>"
      ]
     },
     "execution_count": 4,
     "metadata": {},
     "output_type": "execute_result"
    }
   ],
   "source": [
    "index = pinecone_client.Index('embedding-3d')\n",
    "index"
   ]
  },
  {
   "cell_type": "code",
   "execution_count": null,
   "id": "a2f08894",
   "metadata": {},
   "outputs": [],
   "source": [
    "index.describe_index_stats()"
   ]
  },
  {
   "cell_type": "code",
   "execution_count": null,
   "id": "09e8f949",
   "metadata": {},
   "outputs": [],
   "source": [
    "for ids in index.list(namespace='embedding-3d-ns1'):\n",
    "    print(ids)"
   ]
  },
  {
   "cell_type": "markdown",
   "id": "899390bf",
   "metadata": {},
   "source": [
    "# pinecone data 형식\n",
    "[{'id' :'vec1', 'values' : [1.0, 1.5, 2.0], 'metadata' : {'genre' : 'drama'}},\n",
    "{'id' :'vec2', 'values' : [2.0, 1.5, 0.5], 'metadata' : {'genre' : 'action'}},\n",
    "{'id' :'vec3', 'values' : [0.1, 0.3, 0.5], 'metadata' : {'genre' : 'drama'}},\n",
    "{'id' :'vec4', 'values' : [1.0, 2.5, 3.5], 'metadata' : {'genre' : 'action'}},\n",
    "{'id' :'vec5', 'values' : [3.0, 1.2, 1.3], 'metadata' : {'genre' : 'action'}},\n",
    "{'id' :'vec6', 'values' : [0.3, 1.1, 2.5], 'metadata' : {'genre' : 'drama'}}\n",
    "]"
   ]
  },
  {
   "cell_type": "code",
   "execution_count": null,
   "id": "4053f2bb",
   "metadata": {},
   "outputs": [],
   "source": [
    "index.upsert(\n",
    "    [\n",
    "    {'id' :'vec1', 'values' : [1.0, 1.5, 2.0], 'metadata' : {'genre' : 'drama'}},\n",
    "    {'id' :'vec2', 'values' : [2.0, 1.5, 0.5], 'metadata' : {'genre' : 'action'}},\n",
    "    {'id' :'vec3', 'values' : [0.1, 0.3, 0.5], 'metadata' : {'genre' : 'drama'}},\n",
    "    {'id' :'vec4', 'values' : [1.0, 2.5, 3.5], 'metadata' : {'genre' : 'action'}},\n",
    "    {'id' :'vec5', 'values' : [3.0, 1.2, 1.3], 'metadata' : {'genre' : 'action'}},\n",
    "    {'id' :'vec6', 'values' : [0.3, 1.1, 2.5], 'metadata' : {'genre' : 'drama'}}\n",
    "    ],\n",
    "    namespace='embedding-3d-ns1'\n",
    ")# update & insert"
   ]
  },
  {
   "cell_type": "code",
   "execution_count": null,
   "id": "58bf5c75",
   "metadata": {},
   "outputs": [],
   "source": [
    "index.describe_index_stats()"
   ]
  },
  {
   "cell_type": "markdown",
   "id": "765529a5",
   "metadata": {},
   "source": [
    "# id list"
   ]
  },
  {
   "cell_type": "code",
   "execution_count": null,
   "id": "f96708b1",
   "metadata": {},
   "outputs": [],
   "source": [
    "for ids in index.list(namespace='embedding-3d-ns1'):\n",
    "    print(ids)"
   ]
  },
  {
   "cell_type": "markdown",
   "id": "fa7038b7",
   "metadata": {},
   "source": [
    "# query"
   ]
  },
  {
   "cell_type": "code",
   "execution_count": null,
   "id": "37c57c74",
   "metadata": {},
   "outputs": [],
   "source": [
    "# Pinecone 인덱스에서 K-NN(가까운 이웃) 검색을 수행하는 예시\n",
    "\n",
    "res = index.query(\n",
    "    namespace='embedding-3d-ns1',   # 같은 인덱스 안에서의 논리적 파티션 이름\n",
    "                                    # (업서트/쿼리 시 이 네임스페이스로 구분 저장·검색)\n",
    "    vector=[0.1, 0.4, 0.7],         # 쿼리 임베딩 벡터(길이는 인덱스 dimension과 동일해야 함: 여기선 3)\n",
    "                                    # 실제 서비스에선 모델로부터 생성한 임베딩을 넣는다.\n",
    "    top_k=3,                        # 가장 유사한 상위 3개 벡터 반환\n",
    "    include_values=True,            # 응답에 각 매치의 벡터 값(values) 포함 여부\n",
    "                                    # (디버깅/검증용으로 유용, 운영에선 보통 False로 둬서 응답 크기 감소)\n",
    "    include_metadata=True,          # 응답에 각 매치의 메타데이터 포함 여부\n",
    "                                    # (필터링된 필드나 부가정보를 확인할 때 사용)\n",
    "    filter={'genre': {'$eq': 'drama'}}  # 메타데이터 기반 필터: genre == \"drama\" 인 항목만 검색 대상\n",
    "                                        # (다중 조건은 {'$and':[...]} / {'$or':[...]} 등 조합 가능)\n",
    "                                        # $eq 가 == 임\n",
    ")\n",
    "res"
   ]
  },
  {
   "cell_type": "code",
   "execution_count": 7,
   "id": "14eac1e9",
   "metadata": {},
   "outputs": [
    {
     "name": "stdout",
     "output_type": "stream",
     "text": [
      "['vec1', 'vec2', 'vec3', 'vec4', 'vec5', 'vec6']\n"
     ]
    }
   ],
   "source": [
    "ns = 'embedding-3d-ns1'\n",
    "for ids in index.list(namespace=ns):\n",
    "  print(ids)"
   ]
  },
  {
   "cell_type": "markdown",
   "id": "72165339",
   "metadata": {},
   "source": [
    "# fetch"
   ]
  },
  {
   "cell_type": "code",
   "execution_count": 8,
   "id": "2995740c",
   "metadata": {},
   "outputs": [
    {
     "data": {
      "text/plain": [
       "FetchResponse(namespace='embedding-3d-ns1', vectors={'vec6': Vector(id='vec6', values=[0.3, 1.1, 2.5], metadata={'genre': 'drama'}, sparse_values=None), 'vec2': Vector(id='vec2', values=[2.0, 1.5, 0.5], metadata={'genre': 'action'}, sparse_values=None), 'vec4': Vector(id='vec4', values=[1.0, 2.5, 3.5], metadata={'genre': 'action'}, sparse_values=None), 'vec3': Vector(id='vec3', values=[0.1, 0.3, 0.5], metadata={'genre': 'drama'}, sparse_values=None), 'vec5': Vector(id='vec5', values=[3.0, 1.2, 1.3], metadata={'genre': 'action'}, sparse_values=None), 'vec1': Vector(id='vec1', values=[1.0, 1.5, 2.0], metadata={'genre': 'drama'}, sparse_values=None)}, usage={'read_units': 1})"
      ]
     },
     "execution_count": 8,
     "metadata": {},
     "output_type": "execute_result"
    }
   ],
   "source": [
    "from itertools import chain\n",
    "all_ids = list(chain.from_iterable(index.list(namespace=ns)))\n",
    "resp = index.fetch (ids=all_ids, namespace=ns)\n",
    "resp"
   ]
  },
  {
   "cell_type": "code",
   "execution_count": 9,
   "id": "570df19f",
   "metadata": {},
   "outputs": [
    {
     "data": {
      "text/plain": [
       "{'vec6': Vector(id='vec6', values=[0.3, 1.1, 2.5], metadata={'genre': 'drama'}, sparse_values=None),\n",
       " 'vec2': Vector(id='vec2', values=[2.0, 1.5, 0.5], metadata={'genre': 'action'}, sparse_values=None),\n",
       " 'vec4': Vector(id='vec4', values=[1.0, 2.5, 3.5], metadata={'genre': 'action'}, sparse_values=None),\n",
       " 'vec3': Vector(id='vec3', values=[0.1, 0.3, 0.5], metadata={'genre': 'drama'}, sparse_values=None),\n",
       " 'vec5': Vector(id='vec5', values=[3.0, 1.2, 1.3], metadata={'genre': 'action'}, sparse_values=None),\n",
       " 'vec1': Vector(id='vec1', values=[1.0, 1.5, 2.0], metadata={'genre': 'drama'}, sparse_values=None)}"
      ]
     },
     "execution_count": 9,
     "metadata": {},
     "output_type": "execute_result"
    }
   ],
   "source": [
    "resp.vectors"
   ]
  },
  {
   "cell_type": "markdown",
   "id": "802f2ece",
   "metadata": {},
   "source": [
    "# page"
   ]
  },
  {
   "cell_type": "code",
   "execution_count": 11,
   "id": "f06ec7b2",
   "metadata": {},
   "outputs": [
    {
     "name": "stdout",
     "output_type": "stream",
     "text": [
      "FetchResponse(namespace='embedding-3d-ns1', vectors={'vec2': Vector(id='vec2', values=[2.0, 1.5, 0.5], metadata={'genre': 'action'}, sparse_values=None), 'vec1': Vector(id='vec1', values=[1.0, 1.5, 2.0], metadata={'genre': 'drama'}, sparse_values=None), 'vec6': Vector(id='vec6', values=[0.3, 1.1, 2.5], metadata={'genre': 'drama'}, sparse_values=None), 'vec4': Vector(id='vec4', values=[1.0, 2.5, 3.5], metadata={'genre': 'action'}, sparse_values=None), 'vec3': Vector(id='vec3', values=[0.1, 0.3, 0.5], metadata={'genre': 'drama'}, sparse_values=None), 'vec5': Vector(id='vec5', values=[3.0, 1.2, 1.3], metadata={'genre': 'action'}, sparse_values=None)}, usage={'read_units': 1})\n",
      "vec2 [2.0, 1.5, 0.5]\n",
      "vec1 [1.0, 1.5, 2.0]\n",
      "vec6 [0.3, 1.1, 2.5]\n",
      "vec4 [1.0, 2.5, 3.5]\n",
      "vec3 [0.1, 0.3, 0.5]\n",
      "vec5 [3.0, 1.2, 1.3]\n"
     ]
    }
   ],
   "source": [
    "for id_page in index.list(namespace=ns):\n",
    "    resp = index.fetch (ids=all_ids, namespace=ns)\n",
    "    print(resp)\n",
    "    for vid , v in resp.vectors.items():\n",
    "        print(vid, v.values)"
   ]
  },
  {
   "cell_type": "markdown",
   "id": "338de6c4",
   "metadata": {},
   "source": [
    "# 새로운 쿼리 벡터 추가하기"
   ]
  },
  {
   "cell_type": "code",
   "execution_count": 12,
   "id": "9d6afb20",
   "metadata": {},
   "outputs": [],
   "source": [
    "ids = list(resp.vectors.keys())\n",
    "ids\n",
    "values = [vec.values for vec in resp.vectors.values()]"
   ]
  },
  {
   "cell_type": "code",
   "execution_count": 13,
   "id": "8ce32178",
   "metadata": {},
   "outputs": [],
   "source": [
    "ids.append('qv')\n",
    "values.append([0.1, 0.3, 0.7]) # 차원 일치 시키기"
   ]
  },
  {
   "cell_type": "markdown",
   "id": "66e08aec",
   "metadata": {},
   "source": [
    "# 시각화"
   ]
  },
  {
   "cell_type": "code",
   "execution_count": null,
   "id": "51247ead",
   "metadata": {},
   "outputs": [
    {
     "name": "stdout",
     "output_type": "stream",
     "text": [
      "Collecting matplotlib\n",
      "  Downloading matplotlib-3.10.6-cp312-cp312-win_amd64.whl.metadata (11 kB)\n",
      "Collecting contourpy>=1.0.1 (from matplotlib)\n",
      "  Downloading contourpy-1.3.3-cp312-cp312-win_amd64.whl.metadata (5.5 kB)\n",
      "Collecting cycler>=0.10 (from matplotlib)\n",
      "  Using cached cycler-0.12.1-py3-none-any.whl.metadata (3.8 kB)\n",
      "Collecting fonttools>=4.22.0 (from matplotlib)\n",
      "  Downloading fonttools-4.59.2-cp312-cp312-win_amd64.whl.metadata (111 kB)\n",
      "Collecting kiwisolver>=1.3.1 (from matplotlib)\n",
      "  Downloading kiwisolver-1.4.9-cp312-cp312-win_amd64.whl.metadata (6.4 kB)\n",
      "Requirement already satisfied: numpy>=1.23 in c:\\users\\admin\\miniconda3\\envs\\prompting_env\\lib\\site-packages (from matplotlib) (2.3.2)\n",
      "Requirement already satisfied: packaging>=20.0 in c:\\users\\admin\\miniconda3\\envs\\prompting_env\\lib\\site-packages (from matplotlib) (24.2)\n",
      "Requirement already satisfied: pillow>=8 in c:\\users\\admin\\miniconda3\\envs\\prompting_env\\lib\\site-packages (from matplotlib) (11.3.0)\n",
      "Collecting pyparsing>=2.3.1 (from matplotlib)\n",
      "  Using cached pyparsing-3.2.3-py3-none-any.whl.metadata (5.0 kB)\n",
      "Requirement already satisfied: python-dateutil>=2.7 in c:\\users\\admin\\miniconda3\\envs\\prompting_env\\lib\\site-packages (from matplotlib) (2.9.0.post0)\n",
      "Requirement already satisfied: six>=1.5 in c:\\users\\admin\\miniconda3\\envs\\prompting_env\\lib\\site-packages (from python-dateutil>=2.7->matplotlib) (1.17.0)\n",
      "Downloading matplotlib-3.10.6-cp312-cp312-win_amd64.whl (8.1 MB)\n",
      "   ---------------------------------------- 0.0/8.1 MB ? eta -:--:--\n",
      "   --- ------------------------------------ 0.8/8.1 MB 32.8 MB/s eta 0:00:01\n",
      "   ----------- ---------------------------- 2.4/8.1 MB 5.4 MB/s eta 0:00:02\n",
      "   -------------------- ------------------- 4.2/8.1 MB 6.6 MB/s eta 0:00:01\n",
      "   ------------------------------ --------- 6.3/8.1 MB 7.6 MB/s eta 0:00:01\n",
      "   ------------------------------------- -- 7.6/8.1 MB 7.3 MB/s eta 0:00:01\n",
      "   ---------------------------------------- 8.1/8.1 MB 7.6 MB/s  0:00:01\n",
      "Downloading contourpy-1.3.3-cp312-cp312-win_amd64.whl (226 kB)\n",
      "Using cached cycler-0.12.1-py3-none-any.whl (8.3 kB)\n",
      "Downloading fonttools-4.59.2-cp312-cp312-win_amd64.whl (2.3 MB)\n",
      "   ---------------------------------------- 0.0/2.3 MB ? eta -:--:--\n",
      "   ------------------ --------------------- 1.0/2.3 MB 3.9 MB/s eta 0:00:01\n",
      "   ---------------------------------------- 2.3/2.3 MB 6.7 MB/s  0:00:00\n",
      "Downloading kiwisolver-1.4.9-cp312-cp312-win_amd64.whl (73 kB)\n",
      "Using cached pyparsing-3.2.3-py3-none-any.whl (111 kB)\n",
      "Installing collected packages: pyparsing, kiwisolver, fonttools, cycler, contourpy, matplotlib\n",
      "\n",
      "   ------------- -------------------------- 2/6 [fonttools]\n",
      "   ------------- -------------------------- 2/6 [fonttools]\n",
      "   ------------- -------------------------- 2/6 [fonttools]\n",
      "   ------------- -------------------------- 2/6 [fonttools]\n",
      "   ------------- -------------------------- 2/6 [fonttools]\n",
      "   ------------- -------------------------- 2/6 [fonttools]\n",
      "   ------------- -------------------------- 2/6 [fonttools]\n",
      "   --------------------------------- ------ 5/6 [matplotlib]\n",
      "   --------------------------------- ------ 5/6 [matplotlib]\n",
      "   --------------------------------- ------ 5/6 [matplotlib]\n",
      "   --------------------------------- ------ 5/6 [matplotlib]\n",
      "   --------------------------------- ------ 5/6 [matplotlib]\n",
      "   --------------------------------- ------ 5/6 [matplotlib]\n",
      "   --------------------------------- ------ 5/6 [matplotlib]\n",
      "   --------------------------------- ------ 5/6 [matplotlib]\n",
      "   --------------------------------- ------ 5/6 [matplotlib]\n",
      "   --------------------------------- ------ 5/6 [matplotlib]\n",
      "   --------------------------------- ------ 5/6 [matplotlib]\n",
      "   ---------------------------------------- 6/6 [matplotlib]\n",
      "\n",
      "Successfully installed contourpy-1.3.3 cycler-0.12.1 fonttools-4.59.2 kiwisolver-1.4.9 matplotlib-3.10.6 pyparsing-3.2.3\n"
     ]
    }
   ],
   "source": [
    "# !pip install matplotlib"
   ]
  },
  {
   "cell_type": "code",
   "execution_count": 14,
   "id": "3b8794da",
   "metadata": {},
   "outputs": [
    {
     "data": {
      "image/png": "[encoded data removed]",
      "text/plain": [
       "<Figure size 640x480 with 1 Axes>"
      ]
     },
     "metadata": {},
     "output_type": "display_data"
    }
   ],
   "source": [
    "import matplotlib.pyplot as plt\n",
    "\n",
    "# 3D 플롯을 생성합니다.\n",
    "fig = plt.figure()\n",
    "ax = fig.add_subplot(111, projection='3d')\n",
    "\n",
    "# 각 벡터의 ID와 값을 사용하여 3D 공간에 점을 그립니다.\n",
    "for i, id in enumerate(ids):\n",
    "    if id == \"qv\":\n",
    "        # 쿼리 벡터는 노란색 사각형으로 표시합니다.\n",
    "        ax.scatter(values[i][0], values[i][1], values[i][2], label=id, color='y', s=50, marker='s')\n",
    "        ax.text(values[i][0] + 0.1, values[i][1] + 0.1, values[i][2] + 0.1, id)\n",
    "    else:\n",
    "        # 나머지 벡터는 기본 색상으로 표시합니다.\n",
    "        ax.scatter(values[i][0], values[i][1], values[i][2], label=id)\n",
    "        ax.text(values[i][0] + 0.1, values[i][1] + 0.1, values[i][2] + 0.1, id)\n",
    "\n",
    "# 축 레이블과 제목을 설정합니다.\n",
    "ax.set_xlabel('X')\n",
    "ax.set_ylabel('Y')\n",
    "ax.set_zlabel('Z')\n",
    "ax.set_title('Embedding Vector Space')\n",
    "\n",
    "# 플롯을 표시합니다.\n",
    "plt.show()"
   ]
  },
  {
   "cell_type": "markdown",
   "id": "410ddacd",
   "metadata": {},
   "source": [
    "# 임베딩 과제"
   ]
  },
  {
   "cell_type": "markdown",
   "id": "1d9b758b",
   "metadata": {},
   "source": [
    "name: 'quickstart' 서버리스 인덱스 생성  \n",
    "dim: 1024"
   ]
  },
  {
   "cell_type": "code",
   "execution_count": null,
   "id": "f9f9129b",
   "metadata": {},
   "outputs": [],
   "source": [
    "data = [\n",
    "    {\"id\": \"vec1\", \"text\": \"사과는 달콤하고 아삭한 식감으로 유명한 인기 있는 과일입니다.\"},\n",
    "    {\"id\": \"vec2\", \"text\": \"애플이라는 기술 회사는 아이폰과 같은 혁신적인 제품으로 유명합니다.\"},\n",
    "    {\"id\": \"vec3\", \"text\": \"많은 사람들이 건강한 간식으로 사과를 즐겨 먹습니다.\"},\n",
    "    {\"id\": \"vec4\", \"text\": \"애플 주식회사는 세련된 디자인과 사용자 친화적인 인터페이스로 기술 산업을 혁신했습니다.\"},\n",
    "    {\"id\": \"vec5\", \"text\": \"하루에 사과 하나면 의사를 멀리할 수 있다는 속담이 있습니다.\"},\n",
    "    {\"id\": \"vec6\", \"text\": \"애플 컴퓨터 회사는 1976년 4월 1일 스티브 잡스, 스티브 워즈니악, 로널드 웨인에 의해 파트너십으로 설립되었습니다.\"}\n",
    "]"
   ]
  },
  {
   "cell_type": "markdown",
   "id": "d5e16dbb",
   "metadata": {},
   "source": [
    "임베딩 모델\n",
    "multilingual-e5-large\n",
    "upsert()\n",
    "describe_index_stats()\n",
    "query_vector: \"애플이라는 기술회사에 대해 알려주세요\n"
   ]
  },
  {
   "cell_type": "code",
   "execution_count": 27,
   "id": "90455452",
   "metadata": {},
   "outputs": [
    {
     "data": {
      "text/plain": [
       "{\n",
       "    \"name\": \"quickstart\",\n",
       "    \"metric\": \"cosine\",\n",
       "    \"host\": \"quickstart-t5eez6q.svc.aped-4627-b74a.pinecone.io\",\n",
       "    \"spec\": {\n",
       "        \"serverless\": {\n",
       "            \"cloud\": \"aws\",\n",
       "            \"region\": \"us-east-1\"\n",
       "        }\n",
       "    },\n",
       "    \"status\": {\n",
       "        \"ready\": true,\n",
       "        \"state\": \"Ready\"\n",
       "    },\n",
       "    \"vector_type\": \"dense\",\n",
       "    \"dimension\": 1024,\n",
       "    \"deletion_protection\": \"disabled\",\n",
       "    \"tags\": null\n",
       "}"
      ]
     },
     "execution_count": 27,
     "metadata": {},
     "output_type": "execute_result"
    }
   ],
   "source": [
    "from pinecone import ServerlessSpec\n",
    "pinecone_client.create_index(\n",
    "    name='quickstart',\n",
    "    dimension=1024,\n",
    "    metric='cosine',\n",
    "    spec=ServerlessSpec(\n",
    "        cloud='aws',\n",
    "        region='us-east-1'\n",
    "    )\n",
    ")"
   ]
  },
  {
   "cell_type": "code",
   "execution_count": 28,
   "id": "cf85a89d",
   "metadata": {},
   "outputs": [],
   "source": [
    "index1 = pinecone_client.Index('quickstart')"
   ]
  },
  {
   "cell_type": "code",
   "execution_count": 29,
   "id": "e49a558a",
   "metadata": {},
   "outputs": [
    {
     "data": {
      "text/plain": [
       "{'dimension': 1024,\n",
       " 'index_fullness': 0.0,\n",
       " 'metric': 'cosine',\n",
       " 'namespaces': {},\n",
       " 'total_vector_count': 0,\n",
       " 'vector_type': 'dense'}"
      ]
     },
     "execution_count": 29,
     "metadata": {},
     "output_type": "execute_result"
    }
   ],
   "source": [
    "index1.describe_index_stats()"
   ]
  },
  {
   "cell_type": "code",
   "execution_count": 30,
   "id": "834e267c",
   "metadata": {},
   "outputs": [],
   "source": [
    "for ids in index1.list(namespace='default'):\n",
    "    print(ids)"
   ]
  },
  {
   "cell_type": "code",
   "execution_count": null,
   "id": "5e058c9e",
   "metadata": {},
   "outputs": [
    {
     "name": "stdout",
     "output_type": "stream",
     "text": [
      "(6, 1024)\n"
     ]
    }
   ],
   "source": [
    "from sentence_transformers import SentenceTransformer\n",
    "\n",
    "# multilingual-e5-large 로드\n",
    "model = SentenceTransformer(\"intfloat/multilingual-e5-large\")\n",
    "\n",
    "# E5 계열 권장: query/passsage 접두사\n",
    "data = [\n",
    "    {\"id\": \"vec1\", \"text\": \"사과는 달콤하고 아삭한 식감으로 유명한 인기 있는 과일입니다.\"},\n",
    "    {\"id\": \"vec2\", \"text\": \"애플이라는 기술 회사는 아이폰과 같은 혁신적인 제품으로 유명합니다.\"},\n",
    "    {\"id\": \"vec3\", \"text\": \"많은 사람들이 건강한 간식으로 사과를 즐겨 먹습니다.\"},\n",
    "    {\"id\": \"vec4\", \"text\": \"애플 주식회사는 세련된 디자인과 사용자 친화적인 인터페이스로 기술 산업을 혁신했습니다.\"},\n",
    "    {\"id\": \"vec5\", \"text\": \"하루에 사과 하나면 의사를 멀리할 수 있다는 속담이 있습니다.\"},\n",
    "    {\"id\": \"vec6\", \"text\": \"애플 컴퓨터 회사는 1976년 4월 1일 스티브 잡스, 스티브 워즈니악, 로널드 웨인에 의해 파트너십으로 설립되었습니다.\"}\n",
    "]\n",
    "embeddings = model.encode(data, normalize_embeddings=True)  # L2 정규화 옵션\n",
    "# L2 정규화를 하면 모든 벡터의 길이가 1이 되어서, 순수하게 방향(=의미)만 비교\n",
    "print(embeddings.shape)  # (2, 1024)\n"
   ]
  },
  {
   "cell_type": "code",
   "execution_count": 33,
   "id": "84196433",
   "metadata": {},
   "outputs": [
    {
     "data": {
      "text/plain": [
       "{'upserted_count': 6}"
      ]
     },
     "execution_count": 33,
     "metadata": {},
     "output_type": "execute_result"
    }
   ],
   "source": [
    "# 4. E5 모델 권장: passage 접두사 붙여 임베딩\n",
    "texts = [f\"passage: {d['text']}\" for d in data]\n",
    "embs = model.encode(texts, normalize_embeddings=True)  # (N, 1024)\n",
    "\n",
    "# 5. 업서트 payload 구성\n",
    "vectors = [\n",
    "    {\"id\": d[\"id\"], \"values\": embs[i].tolist(), \"metadata\": {\"text\": d[\"text\"]}}\n",
    "    for i, d in enumerate(data)\n",
    "]\n",
    "\n",
    "# 6. 업서트 실행\n",
    "index1.upsert(vectors=vectors)\n"
   ]
  },
  {
   "cell_type": "code",
   "execution_count": 35,
   "id": "727085a6",
   "metadata": {},
   "outputs": [
    {
     "name": "stdout",
     "output_type": "stream",
     "text": [
      "vec2 0.8844 애플이라는 기술 회사는 아이폰과 같은 혁신적인 제품으로 유명합니다.\n",
      "vec4 0.8728 애플 주식회사는 세련된 디자인과 사용자 친화적인 인터페이스로 기술 산업을 혁신했습니다.\n",
      "vec6 0.8164 애플 컴퓨터 회사는 1976년 4월 1일 스티브 잡스, 스티브 워즈니악, 로널드 웨인에 의해 파트너십으로 설립되었습니다.\n"
     ]
    }
   ],
   "source": [
    "query = \"애플이 만든 혁신적인 제품\"\n",
    "q_emb = model.encode([f\"query: {query}\"], normalize_embeddings=True)[0]\n",
    "\n",
    "res = index1.query(vector=q_emb.tolist(), top_k=3, include_metadata=True)\n",
    "for m in res[\"matches\"]:\n",
    "    print(m[\"id\"], round(m[\"score\"], 4), m[\"metadata\"][\"text\"])\n"
   ]
  }
 ],
 "metadata": {
  "kernelspec": {
   "display_name": "prompting_env",
   "language": "python",
   "name": "python3"
  },
  "language_info": {
   "codemirror_mode": {
    "name": "ipython",
    "version": 3
   },
   "file_extension": ".py",
   "mimetype": "text/x-python",
   "name": "python",
   "nbconvert_exporter": "python",
   "pygments_lexer": "ipython3",
   "version": "3.12.11"
  }
 },
 "nbformat": 4,
 "nbformat_minor": 5
}

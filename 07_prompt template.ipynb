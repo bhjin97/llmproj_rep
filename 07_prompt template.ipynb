{
 "cells": [
  {
   "cell_type": "markdown",
   "id": "5e44cd03",
   "metadata": {},
   "source": [
    "# prompt template"
   ]
  },
  {
   "cell_type": "code",
   "execution_count": 1,
   "id": "a88d5194",
   "metadata": {},
   "outputs": [
    {
     "data": {
      "text/plain": [
       "ChatOpenAI(client=<openai.resources.chat.completions.completions.Completions object at 0x0000029B0727A720>, async_client=<openai.resources.chat.completions.completions.AsyncCompletions object at 0x0000029B072E3770>, root_client=<openai.OpenAI object at 0x0000029B050F5C40>, root_async_client=<openai.AsyncOpenAI object at 0x0000029B06E0E690>, model_name='gpt-4o-mini', model_kwargs={}, openai_api_key=SecretStr('**********'))"
      ]
     },
     "execution_count": 1,
     "metadata": {},
     "output_type": "execute_result"
    }
   ],
   "source": [
    "from dotenv import load_dotenv\n",
    "import os\n",
    "from openai import OpenAI\n",
    "import langchain \n",
    "from langchain_openai import ChatOpenAI\n",
    "\n",
    "llm = ChatOpenAI(model=\"gpt-4o-mini\")\n",
    "llm"
   ]
  },
  {
   "cell_type": "code",
   "execution_count": 3,
   "id": "008704cf",
   "metadata": {},
   "outputs": [
    {
     "data": {
      "text/plain": [
       "'서울에서 유명한 맛집을 알려주세요'"
      ]
     },
     "execution_count": 3,
     "metadata": {},
     "output_type": "execute_result"
    }
   ],
   "source": [
    "from langchain.prompts import PromptTemplate\n",
    "\n",
    "template = PromptTemplate.from_template(\"{city}에서 {adj} {topic}을 알려주세요\")\n",
    "prompt = template.format(city='서울',adj='유명한', topic='맛집')\n",
    "prompt"
   ]
  },
  {
   "cell_type": "code",
   "execution_count": 4,
   "id": "b8e0e598",
   "metadata": {},
   "outputs": [
    {
     "data": {
      "text/plain": [
       "AIMessage(content='서울에는 많은 유명한 맛집들이 있습니다. 다양한 음식 장르를 고려해서 몇 군데 소개해드릴게요.\\n\\n1. **광장시장**: 전통 시장으로, 빈대떡과 마약김밥, 떡볶이 등 다양한 길거리 음식을 즐길 수 있습니다.\\n\\n2. **삼청동 수제비**: 전통적인 한국 수제비를 맛볼 수 있는 곳으로, 따뜻하고 진한 국물 맛이 일품입니다.\\n\\n3. **명동교자**: 칼국수와 만두로 유명한 맛집으로, 항상 많은 사람들이 찾는 곳입니다.\\n\\n4. **이태원 더부스**: 다양한 수제 맥주와 함께 피자, 버거 등을 즐길 수 있는 캐주얼한 공간입니다.\\n\\n5. **부암동 카페거리**: 독특한 분위기의 카페들이 많고, 예쁜 디저트와 음료를 즐기기에 좋은 곳입니다.\\n\\n6. **광화문 죽이야기**: 전통 죽 전문점으로, 다양한 종류의 죽을 맛볼 수 있습니다.\\n\\n7. **홍대 미식가**: 홍대 지역에 위치한 여러 종류의 음식점들이 모여 있는 곳으로, 퓨전 음식부터 전통 음식까지 다양합니다.\\n\\n8. **남산타워 레스토랑**: 서울 야경을 감상하면서 식사를 할 수 있는 멋진 장소입니다.\\n\\n이 외에도 서울에는 정말 많은 맛집이 있으니 여행 중에 다양한 식사를 즐겨보세요!', additional_kwargs={'refusal': None}, response_metadata={'token_usage': {'completion_tokens': 333, 'prompt_tokens': 16, 'total_tokens': 349, 'completion_tokens_details': {'accepted_prediction_tokens': 0, 'audio_tokens': 0, 'reasoning_tokens': 0, 'rejected_prediction_tokens': 0}, 'prompt_tokens_details': {'audio_tokens': 0, 'cached_tokens': 0}}, 'model_name': 'gpt-4o-mini-2024-07-18', 'system_fingerprint': 'fp_8bda4d3a2c', 'id': 'chatcmpl-CDLv23ZwYt2HQczk4cLMOxrqW9YxE', 'service_tier': 'default', 'finish_reason': 'stop', 'logprobs': None}, id='run--82a72d3c-1b71-4446-a04c-e3aa534b9369-0', usage_metadata={'input_tokens': 16, 'output_tokens': 333, 'total_tokens': 349, 'input_token_details': {'audio': 0, 'cache_read': 0}, 'output_token_details': {'audio': 0, 'reasoning': 0}})"
      ]
     },
     "execution_count": 4,
     "metadata": {},
     "output_type": "execute_result"
    }
   ],
   "source": [
    "res = llm.invoke(prompt)\n",
    "res"
   ]
  },
  {
   "cell_type": "code",
   "execution_count": null,
   "id": "ab18db2c",
   "metadata": {},
   "outputs": [
    {
     "data": {
      "text/plain": [
       "'서울에는 많은 유명한 맛집들이 있습니다. 다양한 음식 장르를 고려해서 몇 군데 소개해드릴게요.\\n\\n1. **광장시장**: 전통 시장으로, 빈대떡과 마약김밥, 떡볶이 등 다양한 길거리 음식을 즐길 수 있습니다.\\n\\n2. **삼청동 수제비**: 전통적인 한국 수제비를 맛볼 수 있는 곳으로, 따뜻하고 진한 국물 맛이 일품입니다.\\n\\n3. **명동교자**: 칼국수와 만두로 유명한 맛집으로, 항상 많은 사람들이 찾는 곳입니다.\\n\\n4. **이태원 더부스**: 다양한 수제 맥주와 함께 피자, 버거 등을 즐길 수 있는 캐주얼한 공간입니다.\\n\\n5. **부암동 카페거리**: 독특한 분위기의 카페들이 많고, 예쁜 디저트와 음료를 즐기기에 좋은 곳입니다.\\n\\n6. **광화문 죽이야기**: 전통 죽 전문점으로, 다양한 종류의 죽을 맛볼 수 있습니다.\\n\\n7. **홍대 미식가**: 홍대 지역에 위치한 여러 종류의 음식점들이 모여 있는 곳으로, 퓨전 음식부터 전통 음식까지 다양합니다.\\n\\n8. **남산타워 레스토랑**: 서울 야경을 감상하면서 식사를 할 수 있는 멋진 장소입니다.\\n\\n이 외에도 서울에는 정말 많은 맛집이 있으니 여행 중에 다양한 식사를 즐겨보세요!'"
      ]
     },
     "execution_count": 5,
     "metadata": {},
     "output_type": "execute_result"
    }
   ],
   "source": [
    "res.content # content에 내용이 들어있음"
   ]
  },
  {
   "cell_type": "markdown",
   "id": "35e6bc9f",
   "metadata": {},
   "source": [
    "# template.save"
   ]
  },
  {
   "cell_type": "code",
   "execution_count": 6,
   "id": "3ea856eb",
   "metadata": {},
   "outputs": [],
   "source": [
    "template.save('restaurant_tour_prompt.json')"
   ]
  },
  {
   "cell_type": "code",
   "execution_count": 8,
   "id": "1b5fb830",
   "metadata": {},
   "outputs": [
    {
     "data": {
      "text/plain": [
       "'부산에서 멋진 박물관을 알려주세요'"
      ]
     },
     "execution_count": 8,
     "metadata": {},
     "output_type": "execute_result"
    }
   ],
   "source": [
    "from langchain.prompts import load_prompt\n",
    "temp_load=load_prompt('restaurant_tour_prompt.json')\n",
    "prompt=temp_load.format(city='부산',adj='멋진', topic='박물관')\n",
    "prompt"
   ]
  },
  {
   "cell_type": "markdown",
   "id": "5483ad49",
   "metadata": {},
   "source": [
    "# ChatPromptTemplate"
   ]
  },
  {
   "cell_type": "code",
   "execution_count": 10,
   "id": "a2e797b1",
   "metadata": {},
   "outputs": [
    {
     "data": {
      "text/plain": [
       "ChatPromptTemplate(input_variables=['place', 'question', 'travel', 'when'], input_types={}, partial_variables={}, messages=[SystemMessagePromptTemplate(prompt=PromptTemplate(input_variables=[], input_types={}, partial_variables={}, template='당신은 베테랑 여행 가이드입니다. 고객 맞춤 여행일정 수립을 도와드립니다.'), additional_kwargs={}), HumanMessagePromptTemplate(prompt=PromptTemplate(input_variables=['place', 'travel', 'when'], input_types={}, partial_variables={}, template='{when}에 {place}로 {travel}을 계획 중입니다'), additional_kwargs={}), AIMessagePromptTemplate(prompt=PromptTemplate(input_variables=['place'], input_types={}, partial_variables={}, template='제가 {place}의 전문 여행 가이드입니다. 어떤 도움이 필요하세요?'), additional_kwargs={}), HumanMessagePromptTemplate(prompt=PromptTemplate(input_variables=['question'], input_types={}, partial_variables={}, template='{question}'), additional_kwargs={})])"
      ]
     },
     "execution_count": 10,
     "metadata": {},
     "output_type": "execute_result"
    }
   ],
   "source": [
    "from langchain.prompts import ChatPromptTemplate\n",
    "\n",
    "chat_template = ChatPromptTemplate.from_messages(\n",
    "    [\n",
    "        ('system', '당신은 베테랑 여행 가이드입니다. 고객 맞춤 여행일정 수립을 도와드립니다.'),\n",
    "        ('human', '{when}에 {place}로 {travel}을 계획 중입니다'),\n",
    "        ('ai', '제가 {place}의 전문 여행 가이드입니다. 어떤 도움이 필요하세요?'),\n",
    "        ('human', '{question}')\n",
    "    ]\n",
    ")\n",
    "chat_template"
   ]
  },
  {
   "cell_type": "code",
   "execution_count": 11,
   "id": "736cb1c2",
   "metadata": {},
   "outputs": [
    {
     "data": {
      "text/plain": [
       "[SystemMessage(content='당신은 베테랑 여행 가이드입니다. 고객 맞춤 여행일정 수립을 도와드립니다.', additional_kwargs={}, response_metadata={}),\n",
       " HumanMessage(content='가을에 캐나다로 자유여행을 계획 중입니다', additional_kwargs={}, response_metadata={}),\n",
       " AIMessage(content='제가 캐나다의 전문 여행 가이드입니다. 어떤 도움이 필요하세요?', additional_kwargs={}, response_metadata={}),\n",
       " HumanMessage(content='흥미로운 여행지', additional_kwargs={}, response_metadata={})]"
      ]
     },
     "execution_count": 11,
     "metadata": {},
     "output_type": "execute_result"
    }
   ],
   "source": [
    "final_prompt= chat_template.format_messages(when='가을',place='캐나다', travel='자유여행', question='흥미로운 여행지')\n",
    "final_prompt"
   ]
  },
  {
   "cell_type": "code",
   "execution_count": 12,
   "id": "f02b01a4",
   "metadata": {},
   "outputs": [
    {
     "data": {
      "text/plain": [
       "AIMessage(content=\"가을철의 캐나다는 자연의 아름다움과 다양한 액티비티로 유명합니다. 다음은 추천할 만한 흥미로운 여행지입니다:\\n\\n1. **밴프 국립공원 (Banff National Park)** - 로키산맥의 아름다운 산과 호수를 경험할 수 있습니다. 특히 레이크 루이스의 단풍이 아름답습니다.\\n\\n2. **키친너-워털루 (Kitchener-Waterloo)** - 매년 열리는 '온타리오의 단풍축제'가 유명하며, 펌프킨 페스트가 열리는 곳으로 다양한 행사와 먹거리를 즐길 수 있습니다.\\n\\n3. **퀘벡 시티 (Quebec City)** - 역사적인 건축물과 아기자기한 거리가 매력적입니다. 가을에는 '가을의 퀘벡' 테마로 다양한 축제와 이벤트가 열립니다.\\n\\n4. **토론토 (Toronto)** - CN 타워, 로열 온타리오 박물관 등 다양한 관광 명소가 있으며, 아니다 기념일과 할로윈 테마 파티 등 다양한 이벤트가 열립니다.\\n\\n5. **오타와 (Ottawa)** - 캐나다의 수도로 국립 미술관, 캐나다 의사당 등을 방문할 수 있으며, 가을에는 나무들이 아름답게 물들어 걷기 좋은 장소입니다.\\n\\n6. **나이아가라 폭포 (Niagara Falls)** - 가을철 단풍을 배경으로 폭포를 감상하는 것도 잊지 마세요.\\n\\n7. **앨버타 (Alberta)** - 캐나다 로키의 보석들이 있는 지역으로, 캐나다의 전통단풍을 감상할 수 있는 좋은 장소입니다.\\n\\n이 외에도 특정한 지역이나 활동에 대한 관심이 있으시면 더 맞춤화된 정보를 제공해 드릴 수 있습니다!\", additional_kwargs={'refusal': None}, response_metadata={'token_usage': {'completion_tokens': 407, 'prompt_tokens': 76, 'total_tokens': 483, 'completion_tokens_details': {'accepted_prediction_tokens': 0, 'audio_tokens': 0, 'reasoning_tokens': 0, 'rejected_prediction_tokens': 0}, 'prompt_tokens_details': {'audio_tokens': 0, 'cached_tokens': 0}}, 'model_name': 'gpt-4o-mini-2024-07-18', 'system_fingerprint': 'fp_8bda4d3a2c', 'id': 'chatcmpl-CDM6HkdT6vFYx0XdGpWVvpoUDHSYf', 'service_tier': 'default', 'finish_reason': 'stop', 'logprobs': None}, id='run--1b800226-6c86-4f71-bf33-9a2b0758b825-0', usage_metadata={'input_tokens': 76, 'output_tokens': 407, 'total_tokens': 483, 'input_token_details': {'audio': 0, 'cache_read': 0}, 'output_token_details': {'audio': 0, 'reasoning': 0}})"
      ]
     },
     "execution_count": 12,
     "metadata": {},
     "output_type": "execute_result"
    }
   ],
   "source": [
    "final_res = llm.invoke(final_prompt)\n",
    "final_res"
   ]
  },
  {
   "cell_type": "code",
   "execution_count": 13,
   "id": "54662159",
   "metadata": {},
   "outputs": [
    {
     "data": {
      "text/plain": [
       "\"가을철의 캐나다는 자연의 아름다움과 다양한 액티비티로 유명합니다. 다음은 추천할 만한 흥미로운 여행지입니다:\\n\\n1. **밴프 국립공원 (Banff National Park)** - 로키산맥의 아름다운 산과 호수를 경험할 수 있습니다. 특히 레이크 루이스의 단풍이 아름답습니다.\\n\\n2. **키친너-워털루 (Kitchener-Waterloo)** - 매년 열리는 '온타리오의 단풍축제'가 유명하며, 펌프킨 페스트가 열리는 곳으로 다양한 행사와 먹거리를 즐길 수 있습니다.\\n\\n3. **퀘벡 시티 (Quebec City)** - 역사적인 건축물과 아기자기한 거리가 매력적입니다. 가을에는 '가을의 퀘벡' 테마로 다양한 축제와 이벤트가 열립니다.\\n\\n4. **토론토 (Toronto)** - CN 타워, 로열 온타리오 박물관 등 다양한 관광 명소가 있으며, 아니다 기념일과 할로윈 테마 파티 등 다양한 이벤트가 열립니다.\\n\\n5. **오타와 (Ottawa)** - 캐나다의 수도로 국립 미술관, 캐나다 의사당 등을 방문할 수 있으며, 가을에는 나무들이 아름답게 물들어 걷기 좋은 장소입니다.\\n\\n6. **나이아가라 폭포 (Niagara Falls)** - 가을철 단풍을 배경으로 폭포를 감상하는 것도 잊지 마세요.\\n\\n7. **앨버타 (Alberta)** - 캐나다 로키의 보석들이 있는 지역으로, 캐나다의 전통단풍을 감상할 수 있는 좋은 장소입니다.\\n\\n이 외에도 특정한 지역이나 활동에 대한 관심이 있으시면 더 맞춤화된 정보를 제공해 드릴 수 있습니다!\""
      ]
     },
     "execution_count": 13,
     "metadata": {},
     "output_type": "execute_result"
    }
   ],
   "source": [
    "final_res.content"
   ]
  },
  {
   "cell_type": "code",
   "execution_count": 18,
   "id": "0d4db564",
   "metadata": {},
   "outputs": [
    {
     "data": {
      "text/plain": [
       "'당신은 캐나다 베테랑 여행 가이드입니다. 고객 맞춤 여행일정 수립을 도와드립니다.가을에 캐나다로 자유여행을 계획 중입니다'"
      ]
     },
     "execution_count": 18,
     "metadata": {},
     "output_type": "execute_result"
    }
   ],
   "source": [
    "prompt_1=PromptTemplate.from_template('당신은 {place} 베테랑 여행 가이드입니다. 고객 맞춤 여행일정 수립을 도와드립니다.')\n",
    "prompt_2=PromptTemplate.from_template('{when}에 {place}로 {travel}을 계획 중입니다')\n",
    "\n",
    "concat_prompt = prompt_1 + prompt_2\n",
    "concat_prompt.format(when='가을',place='캐나다', travel='자유여행')"
   ]
  }
 ],
 "metadata": {
  "kernelspec": {
   "display_name": "prompting_env",
   "language": "python",
   "name": "python3"
  },
  "language_info": {
   "codemirror_mode": {
    "name": "ipython",
    "version": 3
   },
   "file_extension": ".py",
   "mimetype": "text/x-python",
   "name": "python",
   "nbconvert_exporter": "python",
   "pygments_lexer": "ipython3",
   "version": "3.12.11"
  }
 },
 "nbformat": 4,
 "nbformat_minor": 5
}

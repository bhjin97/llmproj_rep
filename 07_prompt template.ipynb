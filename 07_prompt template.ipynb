{
 "cells": [
  {
   "cell_type": "markdown",
   "id": "5e44cd03",
   "metadata": {},
   "source": [
    "# prompt template"
   ]
  }
 ],
 "metadata": {
  "kernelspec": {
   "display_name": "prompting_env",
   "language": "python",
   "name": "python3"
  },
  "language_info": {
   "name": "python",
   "version": "3.12.11"
  }
 },
 "nbformat": 4,
 "nbformat_minor": 5
}

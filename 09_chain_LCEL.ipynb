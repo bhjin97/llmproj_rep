{
 "cells": [
  {
   "cell_type": "markdown",
   "id": "51d0f610",
   "metadata": {},
   "source": [
    "LCEL = LanguageChainExpressionLanguage\n",
    "프롬프트 > LLM input > chain input > output > prompt\n",
    "\n",
    "Runnable 인터페이스 > 랭체인 구현하고 있다."
   ]
  },
  {
   "cell_type": "markdown",
   "id": "bf8ae021",
   "metadata": {},
   "source": [
    "# SeqeuntialChain"
   ]
  },
  {
   "cell_type": "code",
   "execution_count": 1,
   "id": "c4ddfed8",
   "metadata": {},
   "outputs": [
    {
     "data": {
      "text/plain": [
       "ChatOpenAI(client=<openai.resources.chat.completions.completions.Completions object at 0x000001CFD42CF440>, async_client=<openai.resources.chat.completions.completions.AsyncCompletions object at 0x000001CFD4834500>, root_client=<openai.OpenAI object at 0x000001CFD280E7B0>, root_async_client=<openai.AsyncOpenAI object at 0x000001CFD47D8440>, model_name='gpt-4.1-nano', model_kwargs={}, openai_api_key=SecretStr('**********'))"
      ]
     },
     "execution_count": 1,
     "metadata": {},
     "output_type": "execute_result"
    }
   ],
   "source": [
    "from langchain_openai import ChatOpenAI\n",
    "\n",
    "llm = ChatOpenAI(model=\"gpt-4.1-nano\")\n",
    "llm"
   ]
  },
  {
   "cell_type": "code",
   "execution_count": 4,
   "id": "103c1123",
   "metadata": {},
   "outputs": [
    {
     "data": {
      "text/plain": [
       "LLMChain(verbose=False, prompt=PromptTemplate(input_variables=['city'], input_types={}, partial_variables={}, template='{city}의 랜드마크는 어딘가요?'), llm=ChatOpenAI(client=<openai.resources.chat.completions.completions.Completions object at 0x000001CFD42CF440>, async_client=<openai.resources.chat.completions.completions.AsyncCompletions object at 0x000001CFD4834500>, root_client=<openai.OpenAI object at 0x000001CFD280E7B0>, root_async_client=<openai.AsyncOpenAI object at 0x000001CFD47D8440>, model_name='gpt-4.1-nano', model_kwargs={}, openai_api_key=SecretStr('**********')), output_parser=StrOutputParser(), llm_kwargs={})"
      ]
     },
     "execution_count": 4,
     "metadata": {},
     "output_type": "execute_result"
    }
   ],
   "source": [
    "from langchain.prompts import PromptTemplate\n",
    "from langchain.chains import LLMChain\n",
    "\n",
    "template = PromptTemplate.from_template('{city}의 랜드마크는 어딘가요?')\n",
    "chain = LLMChain(llm=llm, prompt = template)\n",
    "chain"
   ]
  },
  {
   "cell_type": "code",
   "execution_count": 5,
   "id": "6b635664",
   "metadata": {},
   "outputs": [
    {
     "data": {
      "text/plain": [
       "{'city': '파리',\n",
       " 'text': \"파리의 대표적인 랜드마크로는 다음과 같은 곳들이 있습니다:\\n\\n1. 에펠탑 (Eiffel Tower) - 파리의 상징으로 세계적으로 유명한 철탑입니다.\\n2. 노트르담 드 파리 (Notre-Dame de Paris) - 고딕 건축 양식을 대표하는 대성당입니다.\\n3. 루브르 박물관 (Louvre Museum) - 세계 최대의 미술관으로 레베르드 등의 유명 작품들이 전시되어 있습니다.\\n4. 샹젤리제 거리 (Champs-Élysées) - 세계에서 가장 유명한 거리 중 하나입니다.\\n5. 사크레쾨르 대성당 (Sacré-Cœur Basilica) - 몽마르트르 언덕에 위치한 아름다운 대성당입니다.\\n6. 세느 강 (Seine River) - 파리를 가로지르는 강으로, 유람선 투어로 유명합니다.\\n7. 오르세이 미술관 (Musée d'Orsay) - 인상파 작품들이 전시된 미술관입니다.\\n\\n이 외에도 파리에는 수많은 역사적, 문화적 장소들이 있습니다.\"}"
      ]
     },
     "execution_count": 5,
     "metadata": {},
     "output_type": "execute_result"
    }
   ],
   "source": [
    "chain.invoke({'city':'파리'})"
   ]
  },
  {
   "cell_type": "markdown",
   "id": "7a96f563",
   "metadata": {},
   "source": [
    "# LCEL 파이프라인 구성"
   ]
  },
  {
   "cell_type": "code",
   "execution_count": 6,
   "id": "f653ec6e",
   "metadata": {},
   "outputs": [
    {
     "data": {
      "text/plain": [
       "PromptTemplate(input_variables=['city'], input_types={}, partial_variables={}, template='{city}의 랜드마크는 어딘가요?')\n",
       "| ChatOpenAI(client=<openai.resources.chat.completions.completions.Completions object at 0x000001CFD42CF440>, async_client=<openai.resources.chat.completions.completions.AsyncCompletions object at 0x000001CFD4834500>, root_client=<openai.OpenAI object at 0x000001CFD280E7B0>, root_async_client=<openai.AsyncOpenAI object at 0x000001CFD47D8440>, model_name='gpt-4.1-nano', model_kwargs={}, openai_api_key=SecretStr('**********'))"
      ]
     },
     "execution_count": 6,
     "metadata": {},
     "output_type": "execute_result"
    }
   ],
   "source": [
    "chain_lcel = template | llm # |로 파이프라인 연결\n",
    "chain_lcel"
   ]
  },
  {
   "cell_type": "code",
   "execution_count": 7,
   "id": "5dee819a",
   "metadata": {},
   "outputs": [
    {
     "data": {
      "text/plain": [
       "AIMessage(content=\"파리(Paris)의 대표적인 랜드마크에는 다음과 같은 곳들이 있습니다:\\n\\n1. 에펠탑 (Eiffel Tower) – 파리의 상징으로 세계적으로 유명한 철골 구조물입니다.\\n2. 노트르담 대성당 (Notre-Dame Cathedral) – 고딕 건축의 대표작이며 역사적인 성당입니다.\\n3. 루브르 박물관 (Louvre Museum) – 세계 최대의 미술관으로 유명한 미술 및 역사 박물관입니다.\\n4. 샹젤리제 거리 (Champs-Élysées)와 개선문 (Arc de Triomphe) – 파리의 중심 거리와 역사적인 기념물입니다.\\n5. 몽마르트 언덕과 사크레쾨르 성당 (Sacré-Cœur Basilica) – 예술과 자연이 어우러진 인기 있는 지역입니다.\\n6. 오르세 미술관 (Musée d'Orsay) – 인상파 작품들을 주로 소장한 미술관입니다.\\n\\n이 외에도 파리에는 많은 아름다운 건축물과 공원들이 있어 방문객에게 다양한 경험을 제공합니다.\", additional_kwargs={'refusal': None}, response_metadata={'token_usage': {'completion_tokens': 248, 'prompt_tokens': 21, 'total_tokens': 269, 'completion_tokens_details': {'accepted_prediction_tokens': 0, 'audio_tokens': 0, 'reasoning_tokens': 0, 'rejected_prediction_tokens': 0}, 'prompt_tokens_details': {'audio_tokens': 0, 'cached_tokens': 0}}, 'model_name': 'gpt-4.1-nano-2025-04-14', 'system_fingerprint': 'fp_7c233bf9d1', 'id': 'chatcmpl-CDMzFrb3WpvYK2Y3Xk3KqSVN1TdNh', 'service_tier': 'default', 'finish_reason': 'stop', 'logprobs': None}, id='run--d8801d0d-3ce0-4a1f-8c95-ff5424decdc9-0', usage_metadata={'input_tokens': 21, 'output_tokens': 248, 'total_tokens': 269, 'input_token_details': {'audio': 0, 'cache_read': 0}, 'output_token_details': {'audio': 0, 'reasoning': 0}})"
      ]
     },
     "execution_count": 7,
     "metadata": {},
     "output_type": "execute_result"
    }
   ],
   "source": [
    "chain_lcel.invoke({'city':'paris'})"
   ]
  },
  {
   "cell_type": "markdown",
   "id": "769247c6",
   "metadata": {},
   "source": [
    "# SeqeuntialChain의 구성"
   ]
  },
  {
   "cell_type": "code",
   "execution_count": 8,
   "id": "f0134539",
   "metadata": {},
   "outputs": [
    {
     "data": {
      "text/plain": [
       "SequentialChain(verbose=False, chains=[LLMChain(verbose=True, prompt=PromptTemplate(input_variables=['city'], input_types={}, partial_variables={}, template='{city}의 랜드마크 1개만 알려주세요 이름만 1개 알려주세요 설명은 필요없어요'), llm=ChatOpenAI(client=<openai.resources.chat.completions.completions.Completions object at 0x000001CFD42CF440>, async_client=<openai.resources.chat.completions.completions.AsyncCompletions object at 0x000001CFD4834500>, root_client=<openai.OpenAI object at 0x000001CFD280E7B0>, root_async_client=<openai.AsyncOpenAI object at 0x000001CFD47D8440>, model_name='gpt-4.1-nano', model_kwargs={}, openai_api_key=SecretStr('**********')), output_key='landmark', output_parser=StrOutputParser(), llm_kwargs={}), LLMChain(verbose=False, prompt=PromptTemplate(input_variables=['landmark', 'transport'], input_types={}, partial_variables={}, template='{landmark}에 {transport}로 가는방법이 무엇인가요?'), llm=ChatOpenAI(client=<openai.resources.chat.completions.completions.Completions object at 0x000001CFD42CF440>, async_client=<openai.resources.chat.completions.completions.AsyncCompletions object at 0x000001CFD4834500>, root_client=<openai.OpenAI object at 0x000001CFD280E7B0>, root_async_client=<openai.AsyncOpenAI object at 0x000001CFD47D8440>, model_name='gpt-4.1-nano', model_kwargs={}, openai_api_key=SecretStr('**********')), output_parser=StrOutputParser(), llm_kwargs={})], input_variables=['city', 'transport'], output_variables=['text'])"
      ]
     },
     "execution_count": 8,
     "metadata": {},
     "output_type": "execute_result"
    }
   ],
   "source": [
    "from langchain.chains import SequentialChain\n",
    "prompt_1 = PromptTemplate.from_template('{city}의 랜드마크 1개만 알려주세요 이름만 1개 알려주세요 설명은 필요없어요')\n",
    "prompt_2 = PromptTemplate.from_template('{landmark}에 {transport}로 가는방법이 무엇인가요?')\n",
    "\n",
    "chain1 = LLMChain(llm=llm, prompt = prompt_1, output_key='landmark', verbose=1 )\n",
    "chain2 = LLMChain(llm=llm, prompt = prompt_2)\n",
    "seq_chain = SequentialChain(chains=[chain1, chain2], input_variables=['city','transport']) # landmark는 내가 입력하는 인풋이 아님\n",
    "seq_chain"
   ]
  },
  {
   "cell_type": "code",
   "execution_count": 9,
   "id": "3ac0177d",
   "metadata": {},
   "outputs": [
    {
     "name": "stdout",
     "output_type": "stream",
     "text": [
      "\n",
      "\n",
      "\u001b[1m> Entering new LLMChain chain...\u001b[0m\n",
      "Prompt after formatting:\n",
      "\u001b[32;1m\u001b[1;3mRome의 랜드마크 1개만 알려주세요 이름만 1개 알려주세요 설명은 필요없어요\u001b[0m\n",
      "\n",
      "\u001b[1m> Finished chain.\u001b[0m\n"
     ]
    },
    {
     "data": {
      "text/plain": [
       "{'city': 'Rome',\n",
       " 'transport': 'metro',\n",
       " 'text': '콜로세움(콜로세움, Colosseo)에 가기 위해 지하철(메트로)을 이용하시려면, 로마의 지하철 노선 중에서 다음 방법을 이용하시면 편리합니다:\\n\\n1. **메트로 라인 B (파란색선) 이용**:\\n   - **콜로세움 역 (Colosseo 역)**이 바로 이 라인에 위치해 있습니다.\\n   - **역명:** Colosseo\\n   - **역 위치:** 라테라노 역(Laatarano)와 연결되어 있으며, 콜로세움 바로 근처에 있습니다.\\n\\n2. **이용 방법**:\\n   - 로마 지하철 라인 B를 탑승하세요.\\n   - **콜로세움 역**에서 하차하시기만 하면 바로 콜로세움으로 이동할 수 있습니다.\\n\\n3. **기타 정보**:\\n   - 지하철은 **일반적으로 오전 5:30~23:30** 운영되며, 시간은 하루 일정에 따라 다를 수 있습니다.\\n   - 티켓은 역에서 구매하거나 온라인으로 미리 구매하실 수 있습니다.\\n   \\n그럼 즐거운 방문 되시길 바랍니다!'}"
      ]
     },
     "execution_count": 9,
     "metadata": {},
     "output_type": "execute_result"
    }
   ],
   "source": [
    "seq_chain.invoke({'city':'Rome', 'transport':'metro'})"
   ]
  },
  {
   "cell_type": "code",
   "execution_count": null,
   "id": "9b342ad6",
   "metadata": {},
   "outputs": [],
   "source": []
  }
 ],
 "metadata": {
  "kernelspec": {
   "display_name": "prompting_env",
   "language": "python",
   "name": "python3"
  },
  "language_info": {
   "codemirror_mode": {
    "name": "ipython",
    "version": 3
   },
   "file_extension": ".py",
   "mimetype": "text/x-python",
   "name": "python",
   "nbconvert_exporter": "python",
   "pygments_lexer": "ipython3",
   "version": "3.12.11"
  }
 },
 "nbformat": 4,
 "nbformat_minor": 5
}

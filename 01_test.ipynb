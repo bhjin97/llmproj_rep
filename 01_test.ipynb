{
 "cells": [
  {
   "cell_type": "code",
   "execution_count": 1,
   "id": "d6da4407",
   "metadata": {},
   "outputs": [
    {
     "name": "stdout",
     "output_type": "stream",
     "text": [
      "API Key configured: True\n"
     ]
    }
   ],
   "source": [
    "from dotenv import load_dotenv\n",
    "import os\n",
    "\n",
    "# .env 파일에서 환경 변수를 불러옵니다.\n",
    "load_dotenv()\n",
    "\n",
    "# 환경 변수 읽기\n",
    "openai_api_key = os.getenv(\"OPENAI_API_KEY\")\n",
    "\n",
    "\n",
    "# OpenAI 라이브러리가 환경 변수에서 키를 읽을 수 있도록 설정\n",
    "if openai_api_key:\n",
    "    os.environ[\"OPENAI_API_KEY\"] = openai_api_key\n",
    "\n",
    "print(\"API Key configured:\", \"OPENAI_API_KEY\" in os.environ)"
   ]
  },
  {
   "cell_type": "code",
   "execution_count": 2,
   "id": "b0c6fe14",
   "metadata": {},
   "outputs": [
    {
     "data": {
      "text/plain": [
       "'1.101.0'"
      ]
     },
     "execution_count": 2,
     "metadata": {},
     "output_type": "execute_result"
    }
   ],
   "source": [
    "import openai\n",
    "openai.__version__"
   ]
  },
  {
   "cell_type": "code",
   "execution_count": 15,
   "id": "dde55e42",
   "metadata": {},
   "outputs": [],
   "source": [
    "from openai import OpenAI\n",
    "client = OpenAI()\n",
    "\n",
    "response = client.responses.create(\n",
    "  prompt={\n",
    "    \"id\": \"pmpt_68a7c5d5d2bc8195925155b90ab7cb18013550025a8b5fa2\",\n",
    "    \"version\": \"2\"\n",
    "  },\n",
    "  input=[\n",
    "    {\n",
    "      \"role\": \"user\",\n",
    "      \"content\": [\n",
    "        {\n",
    "          \"type\": \"input_text\",\n",
    "          \"text\": \"점심메뉴 추천좀\"\n",
    "        }\n",
    "      ]\n",
    "    },\n",
    "    {\n",
    "      \"id\": \"msg_68a7c774fb788190bab05adc6045afae0e8e5fa32eea0de1\",\n",
    "      \"role\": \"assistant\",\n",
    "      \"content\": [\n",
    "        {\n",
    "          \"type\": \"output_text\",\n",
    "          \"text\": \"점심 메뉴로 몇 가지 추천드릴게요!\\n\\n1. **김밥**: 간편하고 다양한 재료로 만들 수 있어요.\\n2. **비빔냉면**: 시원하고 매콤한 맛이 매력적입니다.\\n3. **덮밥**: 제육덮밥이나 해물덮밥 등 여러 가지 종류로 즐길 수 있어요.\\n4. **샌드위치**: 야채와 햄, 치즈를 넣어 간편하게 먹기 좋습니다.\\n5. **된장찌개와 밥**: 건강한 한 끼로 추천합니다.\\n6. **타코**: 다양한 재료를 넣어 즐길 수 있는 멕시코 요리입니다.\\n7. **치킨 샐러드**: 간단하면서도 영양가 높은 메뉴입니다.\\n\\n이 중에서 마음에 드는 것이 있다면 만들어 보세요!\"\n",
    "        }\n",
    "      ]\n",
    "    }\n",
    "  ],\n",
    "  text={\n",
    "    \"format\": {\n",
    "      \"type\": \"text\"\n",
    "    }\n",
    "  },\n",
    "  reasoning={},\n",
    "  max_output_tokens=2048,\n",
    "  store=True\n",
    ")"
   ]
  },
  {
   "cell_type": "code",
   "execution_count": 16,
   "id": "97cd10b4",
   "metadata": {},
   "outputs": [
    {
     "data": {
      "text/plain": [
       "[ResponseOutputText(annotations=[], text='점심 메뉴로 몇 가지 추천드릴게요!\\n\\n1. **김밥**: 간편하고 다양한 재료로 만들 수 있어요.\\n2. **비빔냉면**: 시원하고 매콤한 맛이 매력적입니다.\\n3. **덮밥**: 제육덮밥이나 해물덮밥 등 여러 가지 종류로 즐길 수 있어요.\\n4. **샌드위치**: 야채와 햄, 치즈를 넣어 간편하게 먹기 좋습니다.\\n5. **된장찌개와 밥**: 건강한 한 끼로 추천합니다.\\n6. **타코**: 다양한 재료를 넣어 즐길 수 있는 멕시코 요리입니다.\\n7. **치킨 샐러드**: 간단하면서도 영양가 높은 메뉴입니다.\\n\\n이 중에서 마음에 드는 것이 있다면 만들어 보세요!', type='output_text', logprobs=[])]"
      ]
     },
     "execution_count": 16,
     "metadata": {},
     "output_type": "execute_result"
    }
   ],
   "source": [
    "response.output[0].content"
   ]
  },
  {
   "cell_type": "markdown",
   "id": "d9faee1b",
   "metadata": {},
   "source": [
    "# chat completion api "
   ]
  },
  {
   "cell_type": "code",
   "execution_count": 10,
   "id": "16f07573",
   "metadata": {},
   "outputs": [],
   "source": [
    "from openai import OpenAI\n",
    "client = OpenAI()\n",
    "\n",
    "response = client.chat.completions.create(\n",
    "  model=\"gpt-4o-mini\",\n",
    "  messages=[\n",
    "    {\n",
    "      \"role\": \"user\",\n",
    "      \"content\": [\n",
    "        {\n",
    "          \"type\": \"text\",\n",
    "          \"text\": \"점심메뉴 추천좀\"\n",
    "        }\n",
    "      ]\n",
    "    },\n",
    "    {\n",
    "      \"role\": \"assistant\",\n",
    "      \"content\": [\n",
    "        {\n",
    "          \"type\": \"text\",\n",
    "          \"text\": \"점심 메뉴로 몇 가지 추천드릴게요!\\n\\n1. **김밥**: 간편하고 다양한 재료로 만들 수 있어요.\\n2. **비빔냉면**: 시원하고 매콤한 맛이 매력적입니다.\\n3. **덮밥**: 제육덮밥이나 해물덮밥 등 여러 가지 종류로 즐길 수 있어요.\\n4. **샌드위치**: 야채와 햄, 치즈를 넣어 간편하게 먹기 좋습니다.\\n5. **된장찌개와 밥**: 건강한 한 끼로 추천합니다.\\n6. **타코**: 다양한 재료를 넣어 즐길 수 있는 멕시코 요리입니다.\\n7. **치킨 샐러드**: 간단하면서도 영양가 높은 메뉴입니다.\\n\\n이 중에서 마음에 드는 것이 있다면 만들어 보세요!\"\n",
    "        }\n",
    "      ]\n",
    "    }\n",
    "  ],\n",
    "  response_format={\n",
    "    \"type\": \"text\"\n",
    "  },\n",
    "  temperature=1,\n",
    "  max_completion_tokens=2048,\n",
    "  top_p=1,\n",
    "  frequency_penalty=0,\n",
    "  presence_penalty=0\n",
    ")"
   ]
  },
  {
   "cell_type": "code",
   "execution_count": 12,
   "id": "c50ad74b",
   "metadata": {},
   "outputs": [
    {
     "data": {
      "text/plain": [
       "'점심 메뉴로 몇 가지 추천드릴게요!\\n\\n1. **김밥**: 간편하고 다양한 재료로 만들 수 있어요.\\n2. **비빔냉면**: 시원하고 매콤한 맛이 매력적입니다.\\n3. **덮밥**: 제육덮밥이나 해물덮밥 등 여러 가지 종류로 즐길 수 있어요.\\n4. **샌드위치**: 야채와 햄, 치즈를 넣어 간편하게 먹기 좋습니다.\\n5. **된장찌개와 밥**: 건강한 한 끼로 추천합니다.\\n6. **타코**: 다양한 재료를 넣어 즐길 수 있는 멕시코 요리입니다.\\n7. **치킨 샐러드**: 간단하면서도 영양가 높고 포만감을 줍니다.\\n\\n이 중에서 마음에 드는 게 있다면 만들어 보세요!'"
      ]
     },
     "execution_count": 12,
     "metadata": {},
     "output_type": "execute_result"
    }
   ],
   "source": [
    "response.choices[0].message.content"
   ]
  },
  {
   "cell_type": "code",
   "execution_count": null,
   "id": "e896f77b",
   "metadata": {},
   "outputs": [],
   "source": []
  }
 ],
 "metadata": {
  "kernelspec": {
   "display_name": "prompting_env",
   "language": "python",
   "name": "python3"
  },
  "language_info": {
   "codemirror_mode": {
    "name": "ipython",
    "version": 3
   },
   "file_extension": ".py",
   "mimetype": "text/x-python",
   "name": "python",
   "nbconvert_exporter": "python",
   "pygments_lexer": "ipython3",
   "version": "3.12.11"
  }
 },
 "nbformat": 4,
 "nbformat_minor": 5
}

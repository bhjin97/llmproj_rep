{
 "cells": [
  {
   "cell_type": "code",
   "execution_count": 1,
   "id": "08f8b0ff",
   "metadata": {},
   "outputs": [],
   "source": [
    "import yfinance as yf"
   ]
  },
  {
   "cell_type": "code",
   "execution_count": 2,
   "id": "48545fae",
   "metadata": {},
   "outputs": [
    {
     "data": {
      "text/plain": [
       "yfinance.Ticker object <MSFT>"
      ]
     },
     "execution_count": 2,
     "metadata": {},
     "output_type": "execute_result"
    }
   ],
   "source": [
    "ticker = 'MSFT' #symbol\n",
    "msft = yf.Ticker(ticker)\n",
    "msft"
   ]
  },
  {
   "cell_type": "code",
   "execution_count": 7,
   "id": "e8b9ae9f",
   "metadata": {},
   "outputs": [],
   "source": [
    "# 프롬프팅 결과 주가정보 서비스 추천정보\n",
    "basic_info= {\n",
    "'회사명' : msft.info.get('longName'),\n",
    "'산업' : msft.info.get('industry'),\n",
    "'부문' : msft.info.get('sector'),\n",
    "'시가총액' : msft.info.get('marketCap'),\n",
    "'본사위치' : msft.info.get('country'),\n",
    "'최고경영자' : msft.info.get('ceo'),\n",
    "'웹사이트' : msft.info.get('website')\n",
    "}"
   ]
  },
  {
   "cell_type": "code",
   "execution_count": 8,
   "id": "e3083403",
   "metadata": {},
   "outputs": [
    {
     "name": "stdout",
     "output_type": "stream",
     "text": [
      "회사명:Microsoft Corporation\n",
      "산업:Software - Infrastructure\n",
      "부문:Technology\n",
      "시가총액:3748101619712\n",
      "본사위치:United States\n",
      "최고경영자:None\n",
      "웹사이트:https://www.microsoft.com\n"
     ]
    }
   ],
   "source": [
    "for k,v in basic_info.items():\n",
    "    print(f'{k}:{v}')"
   ]
  },
  {
   "cell_type": "code",
   "execution_count": 10,
   "id": "8ae42c39",
   "metadata": {},
   "outputs": [],
   "source": [
    "# 재무제표 정보 가져오기\n",
    "income_statement = msft.financials # 손익계산서\n",
    "balance_sheet = msft.balance_sheet # 대차대조표\n",
    "cashflow_statement = msft.cashflow # 현금흐름도"
   ]
  }
 ],
 "metadata": {
  "kernelspec": {
   "display_name": "prompting_env",
   "language": "python",
   "name": "python3"
  },
  "language_info": {
   "codemirror_mode": {
    "name": "ipython",
    "version": 3
   },
   "file_extension": ".py",
   "mimetype": "text/x-python",
   "name": "python",
   "nbconvert_exporter": "python",
   "pygments_lexer": "ipython3",
   "version": "3.12.11"
  }
 },
 "nbformat": 4,
 "nbformat_minor": 5
}

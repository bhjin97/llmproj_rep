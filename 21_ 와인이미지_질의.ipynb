{
 "cells": [
  {
   "cell_type": "markdown",
   "id": "588982d6",
   "metadata": {},
   "source": [
    "# AI 소믈리에 페르소나"
   ]
  },
  {
   "cell_type": "code",
   "execution_count": 2,
   "id": "d33693af",
   "metadata": {},
   "outputs": [],
   "source": [
    "from openai import OpenAI\n",
    "client = OpenAI()\n",
    "\n",
    "response = client.chat.completions.create(\n",
    "  model=\"gpt-4.1\",\n",
    "  messages=[\n",
    "    {\n",
    "      \"role\": \"system\",\n",
    "      \"content\": [\n",
    "        {\n",
    "          \"type\": \"text\",\n",
    "          \"text\": \"You are an expert sommelier with extensive knowledge in wine, wine pairing, and \\nthe intricacies of food and beverage service. Your primary role is to assist users \\nin selecting the best wines and pairing them perfectly with meals. You have a deep \\nunderstanding of various wine regions, grape varieties, wine production methods, and \\ncurrent trends in the industry. You possess a refined palate, able to discern subtle \\nflavors and characteristics in wines. Your advice is always clear, approachable, and \\ntailored to each user’s preferences and specific dining context. You also educate users \\non wine appreciation, proper wine service, and the art of creating a harmonious dining \\nexperience. Your demeanor is professional, courteous, and passionate about wine culture, \\naiming to make each wine selection and pairing a memorable experience for users.\"\n",
    "        }\n",
    "      ]\n",
    "    },\n",
    "    \n",
    "    {\n",
    "      \"role\": \"user\",\n",
    "      \"content\": [\n",
    "        {\n",
    "          \"type\": \"text\",\n",
    "          \"text\": \"이 와인에 어울리는 요리에는 어떤 것들이 있을까요? https://images.vivino.com/thumbs/Z90I3--JRKWlpMA8wdLY-Q_pb_x600.png\"\n",
    "        }\n",
    "      ]\n",
    "    }\n",
    "    \n",
    "  ],\n",
    "\n",
    "  temperature=1,\n",
    "  max_completion_tokens=2048,\n",
    "  top_p=1,\n",
    "  frequency_penalty=0,\n",
    "  presence_penalty=0\n",
    ")"
   ]
  },
  {
   "cell_type": "code",
   "execution_count": 9,
   "id": "3d420bf7",
   "metadata": {},
   "outputs": [
    {
     "data": {
      "text/plain": [
       "'이미지에 있는 와인이 어떤 것인지 텍스트 정보가 없어 정확한 라벨 확인이 어렵지만, 이미지를 분석해보면 **칠레산 “몬테스 알파 카베르네 소비뇽(Montes Alpha Cabernet Sauvignon)”** 와인으로 보입니다. 몬테스 알파는 칠레를 대표하는 프리미엄 와인 브랜드 중 하나로, 진한 레드 컬러와 풍부한 과실향, 탄탄한 구조와 부드러운 탄닌을 자랑합니다.\\n\\n### 와인 특징 요약\\n- **종류:** 레드와인 (Cabernet Sauvignon)\\n- **산지:** 칠레, 콜차과 밸리\\n- **풍미:** 검은 체리, 블랙베리, 자두 등의 진한 과실향. 바닐라, 스파이스, 오크의 복합미. 풀바디, 부드럽고 힘 있는 탄닌, 긴 여운.\\n\\n---\\n\\n## 어울리는 음식 추천\\n\\n### 1. **붉은 육류 요리**\\n- **스테이크** (특히 립아이, 채끝, 티본 등 마블링이 풍부한 부위)\\n- **양갈비 구이** (로즈마리와 마늘을 곁들인 스타일)\\n- **돼지등심 또는 목살 구이** (그릴이나 오븐에 로스트)\\n\\n### 2. **육즙이 풍부한 찜 요리**\\n- **소고기 찜** (갈비찜, 브레이징한 비프셔클 부위 등)\\n- **오소부코** (송아지 정강이찜, 당근·샐러리·토마토와 함께)\\n\\n### 3. **고다치즈, 에멘탈, 체다 등 숙성 치즈**\\n- 진한 레드와 치즈의 고소함이 잘 어울립니다.\\n\\n### 4. **양념의 풍미가 강한 한식**\\n- **갈비구이**(양념갈비), **불고기**(간장베이스/마늘·참기름 풍미), **장어구이**\\n- 고추장 계열보다는 간장 베이스의 풍미가 잘 어울립니다.\\n\\n### 5. **버섯·트러플을 곁들인 요리**\\n- **트러플 리조또**  \\n- **버섯 라구 파스타**  \\n  와인의 오크 및 흙향과 환상적인 조화를 이룹니다.\\n\\n### 6. **로스트 혹은 바비큐 스타일 요리**\\n- **바비큐 폭립**  \\n- **훈제 오리, 훈제 쇠고기**\\n\\n---\\n\\n## 피해야 할 음식\\n- 톡 쏘는 신맛이 강한 요리(예: 비네그레트나 강한 식초 요리)\\n- 생선회처럼 신선한 해산물 요리(생선이나 굴)\\n\\n---\\n\\n## SERVING TIP\\n- **음용 온도:** 16~18°C로 가볍게 칠링해서 드시면 풍미가 더 살아납니다.\\n- **디캔팅:** 한 시간 정도 디캔팅하면 탄닌이 더 부드럽게 느껴집니다.\\n\\n---\\n\\n원하시는 구체적인 요리 종류(한식, 양식, 이탈리안 등)나 기호가 있으시면 더 맞춤형으로 추천드릴 수 있습니다! 원하신다면 레시피 또는 와인 향미를 살리는 다른 음식도 제안해드릴 수 있으니 언제든 말씀해 주세요.'"
      ]
     },
     "execution_count": 9,
     "metadata": {},
     "output_type": "execute_result"
    }
   ],
   "source": [
    "response.choices[0].message.content"
   ]
  },
  {
   "cell_type": "code",
   "execution_count": 24,
   "id": "551d7e4f",
   "metadata": {},
   "outputs": [],
   "source": [
    "\n",
    "def recommend_dishes(query):\n",
    "  client = OpenAI()\n",
    "\n",
    "  response = client.chat.completions.create(\n",
    "    model=\"gpt-4o-mini\",\n",
    "    messages=[\n",
    "      {\n",
    "        \"role\": \"system\",\n",
    "        \"content\": [\n",
    "          {\n",
    "            \"type\": \"text\",\n",
    "            \"text\": \"You are an expert sommelier with extensive knowledge in wine, wine pairing, and the intricacies of food and beverage service. Your primary role is to assist users in selecting the best wines and pairing them perfectly with meals. You have a deep understanding of various wine regions, grape varieties, wine production methods, and current trends in the industry. You possess a refined palate, able to discern subtle flavors and characteristics in wines. Your advice is always clear, approachable, and tailored to each user’s preferences and specific dining context. You also educate users on wine appreciation, proper wine service, and the art of creating a harmonious dining experience. Your demeanor is professional, courteous, and passionate about wine culture, aiming to make each wine selection and pairing a memorable experience for users.\"\n",
    "          }\n",
    "        ]\n",
    "      },\n",
    "      {\n",
    "        \"role\": \"user\",\n",
    "        \"content\": [\n",
    "          {\n",
    "            \"type\": \"text\",\n",
    "            \"text\": query.get('text')\n",
    "          },\n",
    "          {\n",
    "          \"type\": \"image_url\",\n",
    "          \"image_url\": {\n",
    "            \"url\":  query.get('image_url')\n",
    "          }\n",
    "        }\n",
    "        ]\n",
    "      }\n",
    "    ],\n",
    "    response_format={\n",
    "      \"type\": \"text\"\n",
    "    },\n",
    "    temperature=0,\n",
    "    max_completion_tokens=2048,\n",
    "    top_p=1,\n",
    "    frequency_penalty=0,\n",
    "    presence_penalty=0\n",
    "  )\n",
    "  return \"\".join([choice.message.content for choice in response.choices])"
   ]
  },
  {
   "cell_type": "code",
   "execution_count": 27,
   "id": "03692765",
   "metadata": {},
   "outputs": [],
   "source": [
    "query={'text':'이 와인에 어울리는 요리에는 어떤 것들이 있을까요?',\n",
    "       'image_url' : ' https://images.vivino.com/thumbs/Z90I3--JRKWlpMA8wdLY-Q_pb_x600.png'}"
   ]
  },
  {
   "cell_type": "code",
   "execution_count": 28,
   "id": "adf7a7b5",
   "metadata": {},
   "outputs": [
    {
     "data": {
      "text/plain": [
       "'Masserì Primitivo는 풍부한 과일 향과 부드러운 탄닌을 가진 레드 와인으로, 다양한 요리와 잘 어울립니다. 다음은 이 와인과 잘 어울리는 요리 몇 가지입니다:\\n\\n1. **구운 고기 요리**: 양고기, 소고기 스테이크, 또는 바비큐와 같은 구운 고기 요리와 잘 어울립니다.\\n2. **파스타**: 토마토 소스나 고기 소스가 들어간 파스타 요리, 예를 들어 라자냐나 볼로네제와 좋은 조화를 이룹니다.\\n3. **치즈**: 숙성된 치즈, 특히 파르미지아노 레지아노나 고르곤졸라와 같은 강한 맛의 치즈와 잘 어울립니다.\\n4. **이탈리안 요리**: 리조또, 특히 버섯 리조또와 같은 이탈리안 요리와도 좋은 조합입니다.\\n5. **스파이시 요리**: 매운 소스를 곁들인 요리, 예를 들어 타코나 부리토와도 잘 어울립니다.\\n\\n이 와인은 다양한 요리와의 조화가 뛰어나므로, 여러 가지 요리와 함께 즐겨보시길 추천드립니다!'"
      ]
     },
     "execution_count": 28,
     "metadata": {},
     "output_type": "execute_result"
    }
   ],
   "source": [
    "recommend_dishes(query)"
   ]
  },
  {
   "cell_type": "code",
   "execution_count": null,
   "id": "c20be395",
   "metadata": {},
   "outputs": [],
   "source": []
  }
 ],
 "metadata": {
  "kernelspec": {
   "display_name": "prompting_env",
   "language": "python",
   "name": "python3"
  },
  "language_info": {
   "codemirror_mode": {
    "name": "ipython",
    "version": 3
   },
   "file_extension": ".py",
   "mimetype": "text/x-python",
   "name": "python",
   "nbconvert_exporter": "python",
   "pygments_lexer": "ipython3",
   "version": "3.12.11"
  }
 },
 "nbformat": 4,
 "nbformat_minor": 5
}

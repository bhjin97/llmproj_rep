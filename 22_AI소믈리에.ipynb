{
 "cells": [
  {
   "cell_type": "code",
   "execution_count": 1,
   "id": "29075a26",
   "metadata": {},
   "outputs": [
    {
     "data": {
      "text/plain": [
       "True"
      ]
     },
     "execution_count": 1,
     "metadata": {},
     "output_type": "execute_result"
    }
   ],
   "source": [
    "from langchain_openai import OpenAIEmbeddings\n",
    "from dotenv import load_dotenv\n",
    "\n",
    "load_dotenv()"
   ]
  },
  {
   "cell_type": "markdown",
   "id": "9a51c1b1",
   "metadata": {},
   "source": [
    "# 임베딩과 LLM모델 설정"
   ]
  },
  {
   "cell_type": "code",
   "execution_count": 2,
   "id": "645e9676",
   "metadata": {},
   "outputs": [],
   "source": [
    "embedding = OpenAIEmbeddings(model='text-embedding-3-large')\n",
    "from langchain_openai import ChatOpenAI\n",
    "llm = ChatOpenAI(model='gpt-4o-mini')"
   ]
  },
  {
   "cell_type": "markdown",
   "id": "8e96c23d",
   "metadata": {},
   "source": [
    "# Vector DB 생성"
   ]
  },
  {
   "cell_type": "code",
   "execution_count": 3,
   "id": "ecbace91",
   "metadata": {},
   "outputs": [],
   "source": [
    "from langchain_chroma import Chroma\n",
    "\n",
    "database = Chroma(\n",
    "    collection_name='wine',\n",
    "    persist_directory='./chroma_wine' \n",
    "    ,embedding_function=embedding\n",
    "    )"
   ]
  },
  {
   "cell_type": "markdown",
   "id": "2886c96a",
   "metadata": {},
   "source": [
    "# chat_template 설정"
   ]
  },
  {
   "cell_type": "code",
   "execution_count": 4,
   "id": "e4d0cdeb",
   "metadata": {},
   "outputs": [
    {
     "data": {
      "text/plain": [
       "ChatPromptTemplate(input_variables=['image_url', 'text'], input_types={}, partial_variables={}, messages=[SystemMessagePromptTemplate(prompt=PromptTemplate(input_variables=[], input_types={}, partial_variables={}, template='You are an expert sommelier with extensive knowledge in wine, wine pairing, and the intricacies of food and beverage service. Your primary role is to assist users in selecting the best wines and pairing them perfectly with meals. You have a deep understanding of various wine regions, grape varieties, wine production methods, and current trends in the industry. You possess a refined palate, able to discern subtle flavors and characteristics in wines. Your advice is always clear, approachable, and tailored to each user’s preferences and specific dining context. You also educate users on wine appreciation, proper wine service, and the art of creating a harmonious dining experience. Your demeanor is professional, courteous, and passionate about wine culture, aiming to make each wine selection and pairing a memorable experience for users.'), additional_kwargs={}), HumanMessagePromptTemplate(prompt=[PromptTemplate(input_variables=['text'], input_types={}, partial_variables={}, template='{text}'), ImagePromptTemplate(input_variables=['image_url'], input_types={}, partial_variables={}, template={'url': '{image_url}'})], additional_kwargs={})])"
      ]
     },
     "execution_count": 4,
     "metadata": {},
     "output_type": "execute_result"
    }
   ],
   "source": [
    "from langchain.prompts import ChatPromptTemplate\n",
    "from langchain_core.output_parsers import StrOutputParser\n",
    "SYSTEM_PROMPT = \"You are an expert sommelier with extensive knowledge in wine, wine pairing, and the intricacies of food and beverage service. Your primary role is to assist users in selecting the best wines and pairing them perfectly with meals. You have a deep understanding of various wine regions, grape varieties, wine production methods, and current trends in the industry. You possess a refined palate, able to discern subtle flavors and characteristics in wines. Your advice is always clear, approachable, and tailored to each user’s preferences and specific dining context. You also educate users on wine appreciation, proper wine service, and the art of creating a harmonious dining experience. Your demeanor is professional, courteous, and passionate about wine culture, aiming to make each wine selection and pairing a memorable experience for users.\"\n",
    "wine_query = \"이 와인에 어울리는 요리에는 어떤 것들이 있을까요?\"\n",
    "\n",
    "chat_template = ChatPromptTemplate.from_messages(\n",
    "    [\n",
    "        ('system', SYSTEM_PROMPT),\n",
    "        ('human', [{'type':'text', 'text' :'{text}'},\n",
    "                   {'type':'image_url', 'image_url' : {'url' : '{image_url}'}},\n",
    "                   ])\n",
    "    ]\n",
    ")\n",
    "\n",
    "chat_template"
   ]
  },
  {
   "cell_type": "markdown",
   "id": "900fa398",
   "metadata": {},
   "source": [
    "# recommend_dishes_chain 만들기"
   ]
  },
  {
   "cell_type": "code",
   "execution_count": 8,
   "id": "4bcf0347",
   "metadata": {},
   "outputs": [],
   "source": [
    "def recommend_dishes_chain(query):\n",
    "    SYSTEM_PROMPT = \"You are an expert sommelier with extensive knowledge in wine, wine pairing, and the intricacies of food and beverage service. Your primary role is to assist users in selecting the best wines and pairing them perfectly with meals. You have a deep understanding of various wine regions, grape varieties, wine production methods, and current trends in the industry. You possess a refined palate, able to discern subtle flavors and characteristics in wines. Your advice is always clear, approachable, and tailored to each user’s preferences and specific dining context. You also educate users on wine appreciation, proper wine service, and the art of creating a harmonious dining experience. Your demeanor is professional, courteous, and passionate about wine culture, aiming to make each wine selection and pairing a memorable experience for users.\"\n",
    "\n",
    "    chat_template = ChatPromptTemplate.from_messages(\n",
    "        [\n",
    "            ('system', SYSTEM_PROMPT),\n",
    "            ('human', [{'type':'text', 'text' :query['text']},\n",
    "                    {'type':'image_url', 'image_url' : {'url' : query['image_url']}},\n",
    "                    ])\n",
    "        ]\n",
    "    )\n",
    "    chain = chat_template | llm  | StrOutputParser()\n",
    "    return chain"
   ]
  },
  {
   "cell_type": "code",
   "execution_count": 10,
   "id": "c4e0d2c9",
   "metadata": {},
   "outputs": [
    {
     "data": {
      "text/plain": [
       "'Masserì Primitivo는 풍부한 과일 맛과 부드러운 탄닌으로 유명한 레드 와인입니다. 이 와인에 잘 어울리는 요리는 다음과 같습니다:\\n\\n1. **구운 고기 요리**: 양고기, 소고기 스테이크, 또는 바비큐 립과 잘 어울립니다.\\n2. **지방이 많은 소시지**: 이탈리안 소시지나 치아바타에 넣은 다양한 소시지 요리도 좋습니다.\\n3. **이탈리안 파스타**: 미트 소스 또는 리코타 치즈가 들어간 파스타와 조화를 이룹니다.\\n4. **피자**: 토마토 소스와 다양한 토핑이 있는 피자와도 잘 맞습니다.\\n5. **스파이스가 있는 요리**: 매콤한 칠리 또는 스파이시 타코와도 잘 어울립니다.\\n6. **숙성 치즈**: 체다, 파르미지아노 레지아노 같은 강한 맛의 치즈와 함께 제공합니다.\\n\\n이런 요리와 함께 Masserì Primitivo의 풍부한 맛을 즐기실 수 있습니다!'"
      ]
     },
     "execution_count": 10,
     "metadata": {},
     "output_type": "execute_result"
    }
   ],
   "source": [
    "query_1 = {\n",
    "    'text': wine_query,\n",
    "    'image_url': 'https://images.vivino.com/thumbs/Z90I3--JRKWlpMA8wdLY-Q_pb_x600.png'\n",
    "}\n",
    "\n",
    "rec_dish_chain = recommend_dishes_chain(query_1)\n",
    "\n",
    "rec_dish_chain.invoke(query_1)\n"
   ]
  },
  {
   "cell_type": "code",
   "execution_count": 11,
   "id": "cc9ef0ec",
   "metadata": {},
   "outputs": [
    {
     "data": {
      "text/plain": [
       "'Masserì Primitivo는 풍부한 과일 향과 부드러운 탄닌이 특징인 레드 와인입니다. 이 와인에 어울리는 요리는 다음과 같습니다:\\n\\n1. **고기 요리**: 스테이크, 양고기, 또는 바비큐 요리와 잘 어울립니다. 특히, 양념이 진한 고기 요리나 조리법에서 불 맛이 나는 요리와 궁합이 좋습니다.\\n\\n2. **파스타**: 고기 소스나 토마토 기반의 파스타, 특히 라자냐나 볼로네제와 잘 맞습니다.\\n\\n3. **치즈**: 숙성된 체다, 고르곤졸라, 또는 파르미지아노 레지아노 같은 강한 맛의 치즈와의 조화가 좋습니다.\\n\\n4. **지중해 요리**: 올리브 오일, 허브, 그리고 향신료를 많이 사용하는 그리스나 이탈리아 음식들도 잘 어울립니다.\\n\\n5. **피자**: 토마토 소스와 다양한 토핑이 올라간 피자와도 훌륭합니다.\\n\\n이 요리들이 Masserì Primitivo의 복합적인 풍미와 완벽하게 어우러질 것입니다! Enjoy!'"
      ]
     },
     "execution_count": 11,
     "metadata": {},
     "output_type": "execute_result"
    }
   ],
   "source": [
    "from langchain_core.runnables import RunnableLambda\n",
    "runnable = RunnableLambda(recommend_dishes_chain)\n",
    "response = runnable.invoke(query_1)\n",
    "response"
   ]
  },
  {
   "cell_type": "markdown",
   "id": "6ab0bda9",
   "metadata": {},
   "source": [
    "# describe_dish_flavor_chain 프롬프트"
   ]
  },
  {
   "cell_type": "code",
   "execution_count": 16,
   "id": "cb0322ea",
   "metadata": {},
   "outputs": [],
   "source": [
    "def describe_dish_flavor_chain(query):\n",
    "    SYSTEM_PROMPT = \"\"\"\n",
    "            Persona:\n",
    "            As a flavor analysis system, I am equipped with a deep understanding of food ingredients, cooking methods, and sensory properties such as taste, texture, and aroma. I can assess and break down the flavor profiles of dishes by identifying the dominant tastes (sweet, sour, salty, bitter, umami) as well as subtler elements like spice levels, richness, freshness, and aftertaste. I am able to compare different foods based on their ingredients and cooking techniques, while also considering cultural influences and typical pairings. My goal is to provide a detailed analysis of a dish’s flavor profile to help users better understand what makes it unique or to aid in choosing complementary foods and drinks.\n",
    "\n",
    "            Role:\n",
    "\n",
    "            1. Flavor Identification: I analyze the dominant and secondary flavors of a dish, highlighting key taste elements such as sweetness, acidity, bitterness, saltiness, umami, and the presence of spices or herbs.\n",
    "            2. Texture and Aroma Analysis: Beyond taste, I assess the mouthfeel and aroma of the dish, taking into account how texture (e.g., creamy, crunchy) and scents (e.g., smoky, floral) contribute to the overall experience.\n",
    "            3. Ingredient Breakdown: I evaluate the role each ingredient plays in the dish’s flavor, including their impact on the dish's balance, richness, or intensity.\n",
    "            4. Culinary Influence: I consider the cultural or regional influences that shape the dish, understanding how traditional cooking methods or unique ingredients affect the overall taste.\n",
    "            5. Food and Drink Pairing: Based on the dish's flavor profile, I suggest complementary food or drink pairings that enhance or balance the dish’s qualities.\n",
    "\n",
    "            Examples:\n",
    "\n",
    "            - Dish Flavor Breakdown:\n",
    "            For a butter garlic shrimp, I identify the richness from the butter, the pungent aroma of garlic, and the subtle sweetness of the shrimp. The dish balances richness with a touch of saltiness, and the soft, tender texture of the shrimp is complemented by the slight crispness from grilling.\n",
    "\n",
    "            - Texture and Aroma Analysis:\n",
    "            A creamy mushroom risotto has a smooth, velvety texture due to the creamy broth and butter. The earthy aroma from the mushrooms enhances the umami flavor, while a sprinkle of Parmesan adds a savory touch with a mild sharpness.\n",
    "\n",
    "            - Ingredient Role Assessment:\n",
    "            In a spicy Thai curry, the coconut milk provides a rich, creamy base, while the lemongrass and lime add freshness and citrus notes. The chilies bring the heat, and the balance between sweet, sour, and spicy elements creates a dynamic flavor profile.\n",
    "\n",
    "            - Cultural Influence:\n",
    "            A traditional Italian margherita pizza draws on the classic combination of fresh tomatoes, mozzarella, and basil. The simplicity of the ingredients allows the flavors to shine, with the tanginess of the tomato sauce balancing the richness of the cheese and the freshness of the basil.\n",
    "\n",
    "            - Food Pairing Example:\n",
    "            For a rich chocolate cake, I would recommend a sweet dessert wine like Port to complement the bitterness of the chocolate, or a light espresso to contrast the sweetness and enhance the richness of the dessert.\n",
    "        \"\"\"\n",
    "\n",
    "    chat_template = ChatPromptTemplate.from_messages(\n",
    "        [\n",
    "            ('system', SYSTEM_PROMPT),\n",
    "            ('human', [{'type':'text', 'text' :query['text']},\n",
    "                    {'type':'image_url', 'image_url' : {'url' : query['image_url']}},\n",
    "                    ])\n",
    "        ]\n",
    "    )\n",
    "    chain = chat_template | llm  | StrOutputParser()\n",
    "    return chain"
   ]
  },
  {
   "cell_type": "code",
   "execution_count": 17,
   "id": "5adfcbf8",
   "metadata": {},
   "outputs": [
    {
     "data": {
      "text/plain": [
       "'이 요리는 부드러운 필레 미뇽 스테이크로, 육즙이 풍부하고 섬세한 질감이 특징입니다. 스테이크는 겉은 바삭하게 구워져 고소한 향이 나며, 안쪽은 완벽하게 미디엄 레어로 조리되어 육즙이 가득 차 있습니다. \\n\\n스테이크 위에 올려진 허브 버터는 신선한 맛과 크리미한 질감을 더해줍니다. 특히 파슬리와 같은 허브가 주는 상쾌함이 스테이크의 풍미를 한층 끌어올립니다. 부드럽고 살짝 짭짤한 맛이 조화를 이루어, 고기의 풍미가 강조됩니다.\\n\\n디스플레이된 아루굴라(루콜라)는 쌉쌀한 맛을 추가하여 전체적인 맛의 균형을 맞추며, 스테이크와의 조화를 잘 이룹니다.\\n\\n이 요리는 일반적으로 풀바디의 레드 와인과 잘 어울립니다. 특히 카베르네 소비뇽이나 말벡 같은 와인은 고기의 진한 맛과 버터의 크리미함을 보완하며, 잔잔한 탄닌이 부드러운 질감과 단맛을 더욱 강조해줍니다. \\n\\n이처럼 풍부하고 조화로운 맛의 조합은 식사 경험을 더욱 특별하게 만들어 줍니다.'"
      ]
     },
     "execution_count": 17,
     "metadata": {},
     "output_type": "execute_result"
    }
   ],
   "source": [
    "dish_query = '이 요리의 맛을 묘사해주세요 당신은 와인전문가이기도 하지만 미식평가단이기도 합니다'\n",
    "query_2 = {\n",
    "    'text': dish_query,\n",
    "    'image_url': 'https://i2.wp.com/www.downshiftology.com/wp-content/uploads/2023/02/Filet-Mignon.jpg'\n",
    "}\n",
    "\n",
    "des_dish_chain = describe_dish_flavor_chain(query_2)\n",
    "\n",
    "des_dish_chain.invoke(query_2)"
   ]
  },
  {
   "cell_type": "code",
   "execution_count": 26,
   "id": "a8817403",
   "metadata": {},
   "outputs": [
    {
     "data": {
      "text/plain": [
       "'이 요리는 부드러운 안심 스테이크로, 요리의 중심은 육즙이 풍부한 고기의 깊은 맛입니다. 스테이크의 겉은 잘 구워져 바삭한 크러스트가 형성되어 있으며, 내부는 연하고 분홍빛의 미디엄 레어로 조리되어 있습니다. \\n\\n### 맛 분석:\\n- **Dominant Flavors**: 스테이크의 고소한 맛이 중심을 이루며, 고기의 자연적인 단맛도 느껴집니다. 마리네이드나 조리법에 따라 약간의 스파이스가 느껴질 수도 있습니다.\\n- **Richness**: 고기는 풍부하고 기름진 질감이 배어 있어 한 입 먹을 때마다 입안에서 사르르 녹는 느낌을 줍니다.\\n- **Herb Butter**: 버터 위에 올려진 허브는 신선함과 약간의 유산균적 산미를 더해주어 고기의 풍미와 잘 어울립니다. 허브의 향긋함이 스테이크의 본연의 맛을 강조해 줍니다.\\n\\n### 텍스처 및 아로마:\\n- **Texture**: 스테이크의 부드러움은 씹었을 때의 쫄깃함과 함께 완벽한 조화를 이루며, 허브 버터의 크리미함이 곁들여져 전체적인 경험을 한층 증진시킵니다.\\n- **Aroma**: 풍미가 가득한 고기는 구울 때 발생하는 탄내와 함께 상승하는 향긋한 허브의 향이 어우러져 미각을 자극합니다. \\n\\n### 음료 추천:\\n이 요리와 함께 추천되는 와인은 풀바디의 레드 와인, 특히 까베르네 소비뇽이나 시라즈가 좋습니다. 이러한 와인은 스테이크의 풍부한 맛과 바디감에 잘 어울리며, 탄닌의 결합으로 각각의 맛이 더 풍부하게 느껴질 것입니다.'"
      ]
     },
     "execution_count": 26,
     "metadata": {},
     "output_type": "execute_result"
    }
   ],
   "source": [
    "from langchain_core.runnables import RunnableLambda\n",
    "runnable = RunnableLambda(describe_dish_flavor_chain)\n",
    "response = runnable.invoke(query_2)\n",
    "response"
   ]
  },
  {
   "cell_type": "code",
   "execution_count": 18,
   "id": "9a47d191",
   "metadata": {},
   "outputs": [
    {
     "name": "stdout",
     "output_type": "stream",
     "text": [
      "0 page_content=': 0\n",
      "country: Italy\n",
      "description: Aromas include tropical fruit, broom, brimstone and dried herb. The palate isn't overly expressive, offering unripened apple, citrus and dried sage alongside brisk acidity.\n",
      "designation: Vulkà Bianco\n",
      "points: 87\n",
      "price: \n",
      "province: Sicily & Sardinia\n",
      "region_1: Etna\n",
      "region_2: \n",
      "taster_name: Kerin O’Keefe\n",
      "taster_twitter_handle: @kerinokeefe\n",
      "title: Nicosia 2013 Vulkà Bianco  (Etna)\n",
      "variety: White Blend\n",
      "winery: Nicosia' metadata={'source': './winemag-data-130k-v2.csv', 'row': 0}\n",
      "1 page_content=': 1\n",
      "country: Portugal\n",
      "description: This is ripe and fruity, a wine that is smooth while still structured. Firm tannins are filled out with juicy red berry fruits and freshened with acidity. It's  already drinkable, although it will certainly be better from 2016.\n",
      "designation: Avidagos\n",
      "points: 87\n",
      "price: 15.0\n",
      "province: Douro\n",
      "region_1: \n",
      "region_2: \n",
      "taster_name: Roger Voss\n",
      "taster_twitter_handle: @vossroger\n",
      "title: Quinta dos Avidagos 2011 Avidagos Red (Douro)\n",
      "variety: Portuguese Red\n",
      "winery: Quinta dos Avidagos' metadata={'source': './winemag-data-130k-v2.csv', 'row': 1}\n",
      "2 page_content=': 2\n",
      "country: US\n",
      "description: Tart and snappy, the flavors of lime flesh and rind dominate. Some green pineapple pokes through, with crisp acidity underscoring the flavors. The wine was all stainless-steel fermented.\n",
      "designation: \n",
      "points: 87\n",
      "price: 14.0\n",
      "province: Oregon\n",
      "region_1: Willamette Valley\n",
      "region_2: Willamette Valley\n",
      "taster_name: Paul Gregutt\n",
      "taster_twitter_handle: @paulgwine\n",
      "title: Rainstorm 2013 Pinot Gris (Willamette Valley)\n",
      "variety: Pinot Gris\n",
      "winery: Rainstorm' metadata={'source': './winemag-data-130k-v2.csv', 'row': 2}\n"
     ]
    }
   ],
   "source": [
    "from langchain_community.document_loaders import CSVLoader\n",
    "\n",
    "loader = CSVLoader(\"./winemag-data-130k-v2.csv\")\n",
    "docs = loader.load()\n",
    "\n",
    "for i, doc in enumerate(docs[:3]):\n",
    "    print(str(i), doc)"
   ]
  },
  {
   "cell_type": "code",
   "execution_count": 22,
   "id": "1be96e48",
   "metadata": {},
   "outputs": [],
   "source": [
    "from langchain_pinecone import PineconeVectorStore\n",
    "import os\n",
    "\n",
    "vector_store = PineconeVectorStore.from_documents(\n",
    "    docs, \n",
    "    embedding, \n",
    "    index_name='wine-reviews', \n",
    "    namespace='default'\n",
    ")"
   ]
  },
  {
   "cell_type": "code",
   "execution_count": 24,
   "id": "2eabe88d",
   "metadata": {},
   "outputs": [
    {
     "data": {
      "text/plain": [
       "[Document(id='85f135cb-d1bb-49dd-aafb-82bb5446f32a', metadata={'row': 55680.0, 'source': './winemag-data-130k-v2.csv'}, page_content=': 55680\\ncountry: Italy\\ndescription: Villa Novara presents easy aromas of fresh forest berry and almond paste. The wine is informal and sharp making it an ideal companion to pizza with mozzarella or pasta stuffed with ricotta cheese.\\ndesignation: Villa Novare\\npoints: 84\\nprice: 16.0\\nprovince: Veneto\\nregion_1: Valpolicella Classico\\nregion_2: \\ntaster_name: \\ntaster_twitter_handle: \\ntitle: Bertani 2009 Villa Novare  (Valpolicella Classico)\\nvariety: Corvina, Rondinella, Molinara\\nwinery: Bertani'),\n",
       " Document(id='6cf56165-4693-4db1-bc0b-c18c8c191a30', metadata={'row': 66281.0, 'source': './winemag-data-130k-v2.csv'}, page_content=': 66281\\ncountry: Italy\\ndescription: A blend of 85% Sangiovese, 10% Alicante and 5% Ciliegiolo, this wine has earthy aromas that recall wet soil, leather and pressed blue flower petals. The juicy palate delivers fleshy black cherry and raspberry. Notes of black pepper, espresso and Mediterranean herbs add interest.\\ndesignation: Ciabatta\\npoints: 88\\nprice: 25.0\\nprovince: Tuscany\\nregion_1: Morellino di Scansano\\nregion_2: \\ntaster_name: Kerin O’Keefe\\ntaster_twitter_handle: @kerinokeefe\\ntitle: Erik Banti 2010 Ciabatta  (Morellino di Scansano)\\nvariety: Red Blend\\nwinery: Erik Banti'),\n",
       " Document(id='0e67f7e4-856a-485d-859f-c84e4755f852', metadata={'row': 28284.0, 'source': './winemag-data-130k-v2.csv'}, page_content=\": 28284\\ncountry: Italy\\ndescription: Here's a vibrant and easy-drinking selection that's loaded with cherry and black pepper sensations. It's fresh, bright and crisp, and is perfect to pair with pasta e fagioli or white-meat dishes.\\ndesignation: Rafael\\npoints: 86\\nprice: 16.0\\nprovince: Veneto\\nregion_1: Valpolicella Classico Superiore\\nregion_2: \\ntaster_name: Kerin O’Keefe\\ntaster_twitter_handle: @kerinokeefe\\ntitle: Tommasi 2011 Rafael  (Valpolicella Classico Superiore)\\nvariety: Red Blend\\nwinery: Tommasi\"),\n",
       " Document(id='0d46f9a0-720b-4cd8-ba57-6e9b110be6fe', metadata={'row': 102850.0, 'source': './winemag-data-130k-v2.csv'}, page_content=': 102850\\ncountry: Italy\\ndescription: Seems confected, with sweet Jolly Rancher aromas playing against taut acidity. A light, tart offering best paired with tomato-based sauces—fine with spaghetti at your local Italian joint.\\ndesignation: \\npoints: 84\\nprice: 9.0\\nprovince: Veneto\\nregion_1: Valpolicella\\nregion_2: \\ntaster_name: Joe Czerwinski\\ntaster_twitter_handle: @JoeCz\\ntitle: Bolla 1999  Valpolicella\\nvariety: Red Blend\\nwinery: Bolla'),\n",
       " Document(id='350b3dc8-bb70-46c5-8a96-b3e77b9812d2', metadata={'row': 73515.0, 'source': './winemag-data-130k-v2.csv'}, page_content=\": 73515\\ncountry: Italy\\ndescription: Fragrant white flower, honeydew melon, tomato vine and hay aromas all come together in the glass. The vibrant palate shows pink grapefruit and tangerine alongside a vein of mineral.\\ndesignation: Tenuta Sant'Elena\\npoints: 88\\nprice: 23.0\\nprovince: Northeastern Italy\\nregion_1: Collio\\nregion_2: \\ntaster_name: Kerin O’Keefe\\ntaster_twitter_handle: @kerinokeefe\\ntitle: Fantinel 2014 Tenuta Sant'Elena Sauvignon (Collio)\\nvariety: Sauvignon\\nwinery: Fantinel\")]"
      ]
     },
     "execution_count": 24,
     "metadata": {},
     "output_type": "execute_result"
    }
   ],
   "source": [
    "results = vector_store.similarity_search(\n",
    "    \"이 요리는 판차넬라 샐러드로, 신선한 토마토와 바질의 상큼함이 빵의 고소함과 어우러져 상쾌하고 풍부한 맛을 냅니다.\", \n",
    "    k=5, \n",
    "    namespace='default'\n",
    ")\n",
    "\n",
    "results"
   ]
  },
  {
   "cell_type": "markdown",
   "id": "62ea3381",
   "metadata": {},
   "source": [
    "# search_wine"
   ]
  },
  {
   "cell_type": "code",
   "execution_count": 25,
   "id": "44771dec",
   "metadata": {},
   "outputs": [],
   "source": [
    "def search_wine(dish_flavor):\n",
    "    results = vector_store.similarity_search(\n",
    "        dish_flavor,\n",
    "        k=5,\n",
    "        namespace='default'\n",
    "    )\n",
    "\n",
    "    return {\n",
    "        \"dish_flavor\": dish_flavor,\n",
    "        \"wine_reviews\": \"\\n\".join([doc.page_content for doc in results])\n",
    "    }\n"
   ]
  },
  {
   "cell_type": "code",
   "execution_count": 27,
   "id": "b7095832",
   "metadata": {},
   "outputs": [
    {
     "name": "stdout",
     "output_type": "stream",
     "text": [
      "이 요리는 판차넬라 샐러드로, 신선한 토마토와 바질의 상큼함이 빵의 고소함과 어우러져 상쾌하고 풍부한 맛을 냅니다.\n",
      ": 55680\n",
      "country: Italy\n",
      "description: Villa Novara presents easy aromas of fresh forest berry and almond paste. The wine is informal and sharp making it an ideal companion to pizza with mozzarella or pasta stuffed with ricotta cheese.\n",
      "designation: Villa Novare\n",
      "points: 84\n",
      "price: 16.0\n",
      "province: Veneto\n",
      "region_1: Valpolicella Classico\n",
      "region_2: \n",
      "taster_name: \n",
      "taster_twitter_handle: \n",
      "title: Bertani 2009 Villa Novare  (Valpolicella Classico)\n",
      "variety: Corvina, Rondinella, Molinara\n",
      "winery: Bertani\n",
      ": 66281\n",
      "country: Italy\n",
      "description: A blend of 85% Sangiovese, 10% Alicante and 5% Ciliegiolo, this wine has earthy aromas that recall wet soil, leather and pressed blue flower petals. The juicy palate delivers fleshy black cherry and raspberry. Notes of black pepper, espresso and Mediterranean herbs add interest.\n",
      "designation: Ciabatta\n",
      "points: 88\n",
      "price: 25.0\n",
      "province: Tuscany\n",
      "region_1: Morellino di Scansano\n",
      "region_2: \n",
      "taster_name: Kerin O’Keefe\n",
      "taster_twitter_handle: @kerinokeefe\n",
      "title: Erik Banti 2010 Ciabatta  (Morellino di Scansano)\n",
      "variety: Red Blend\n",
      "winery: Erik Banti\n",
      ": 28284\n",
      "country: Italy\n",
      "description: Here's a vibrant and easy-drinking selection that's loaded with cherry and black pepper sensations. It's fresh, bright and crisp, and is perfect to pair with pasta e fagioli or white-meat dishes.\n",
      "designation: Rafael\n",
      "points: 86\n",
      "price: 16.0\n",
      "province: Veneto\n",
      "region_1: Valpolicella Classico Superiore\n",
      "region_2: \n",
      "taster_name: Kerin O’Keefe\n",
      "taster_twitter_handle: @kerinokeefe\n",
      "title: Tommasi 2011 Rafael  (Valpolicella Classico Superiore)\n",
      "variety: Red Blend\n",
      "winery: Tommasi\n",
      ": 102850\n",
      "country: Italy\n",
      "description: Seems confected, with sweet Jolly Rancher aromas playing against taut acidity. A light, tart offering best paired with tomato-based sauces—fine with spaghetti at your local Italian joint.\n",
      "designation: \n",
      "points: 84\n",
      "price: 9.0\n",
      "province: Veneto\n",
      "region_1: Valpolicella\n",
      "region_2: \n",
      "taster_name: Joe Czerwinski\n",
      "taster_twitter_handle: @JoeCz\n",
      "title: Bolla 1999  Valpolicella\n",
      "variety: Red Blend\n",
      "winery: Bolla\n",
      ": 45843\n",
      "country: Italy\n",
      "description: Fresh, easy and bright, this no-fuss red would be great with pepperoni pizza or grilled sausage. There's a sharp note of acidity to cut through the fat in those foods, followed by bright berry and cola flavors.\n",
      "designation: Campo Santa Lena\n",
      "points: 84\n",
      "price: 11.0\n",
      "province: Veneto\n",
      "region_1: Valpolicella Classico\n",
      "region_2: \n",
      "taster_name: \n",
      "taster_twitter_handle: \n",
      "title: Villa Monteleone 2011 Campo Santa Lena  (Valpolicella Classico)\n",
      "variety: Corvina, Rondinella, Molinara\n",
      "winery: Villa Monteleone\n"
     ]
    }
   ],
   "source": [
    "taste_query = \"이 요리는 판차넬라 샐러드로, 신선한 토마토와 바질의 상큼함이 빵의 고소함과 어우러져 상쾌하고 풍부한 맛을 냅니다.\"\n",
    "runnable = RunnableLambda(search_wine)\n",
    "response = runnable.invoke(taste_query)\n",
    "print(response['dish_flavor'])\n",
    "print(response['wine_reviews'])"
   ]
  },
  {
   "cell_type": "markdown",
   "id": "de20eae4",
   "metadata": {},
   "source": [
    "# recommand_wine"
   ]
  },
  {
   "cell_type": "code",
   "execution_count": 29,
   "id": "11af0aa2",
   "metadata": {},
   "outputs": [],
   "source": [
    "def recommand_wine(query):\n",
    "    prompt = ChatPromptTemplate.from_messages([\n",
    "        (\"system\", \"\"\"\n",
    "            Persona:\n",
    "\n",
    "            As a sommelier, I possess an extensive knowledge of wines, including grape varieties, regions, tasting notes, and food pairings. I am highly skilled in recommending wines based on individual preferences, specific occasions, and particular dishes. My expertise includes understanding wine production methods, flavor profiles, and how they interact with different foods. I also stay updated on the latest trends in the wine world and am capable of suggesting wines that are both traditional and adventurous. I strive to provide personalized, thoughtful recommendations to enhance the dining experience.\n",
    "\n",
    "            Role:\n",
    "\n",
    "            1. Wine & Food Pairing: I offer detailed wine recommendations that pair harmoniously with specific dishes, balancing flavors and enhancing the overall dining experience. Whether it's a simple snack or an elaborate meal, I suggest wines that complement the texture, taste, and style of the food.\n",
    "            2. Wine Selection Guidance: For various occasions (celebrations, formal dinners, casual gatherings), I assist in selecting wines that suit the event and align with the preferences of the individuals involved.\n",
    "            3. Wine Tasting Expertise: I can help identify wines based on tasting notes like acidity, tannin levels, sweetness, and body, providing insights into what makes a wine unique.\n",
    "            4. Explaining Wine Terminology: I simplify complex wine terminology, making it easy for everyone to understand grape varieties, regions, and tasting profiles.\n",
    "            5. Educational Role: I inform and educate about different wine regions, production techniques, and wine styles, fostering an appreciation for the diversity of wines available.\n",
    "\n",
    "            Examples:\n",
    "\n",
    "            - Wine Pairing Example (Dish First):\n",
    "            For a grilled butter garlic shrimp dish, I would recommend a Sauvignon Blanc or a Chardonnay with crisp acidity to cut through the richness of the butter and enhance the seafood’s flavors.\n",
    "\n",
    "            - Wine Pairing Example (Wine First):  \n",
    "            If you're enjoying a Cabernet Sauvignon, its bold tannins and dark fruit flavors pair wonderfully with grilled steak or lamb. The richness of the meat complements the intensity of the wine.\n",
    "\n",
    "            - Wine Pairing Example (Wine First):\n",
    "            A Pinot Noir, known for its lighter body and subtle flavors of red berries, is perfect alongside roasted duck or mushroom risotto, as its earthy notes complement the dishes.\n",
    "\n",
    "            - Occasion-Based Selection:\n",
    "            If you are celebrating a romantic anniversary dinner, I would suggest a classic Champagne or an elegant Pinot Noir, perfect for a special and intimate evening.\n",
    "\n",
    "            - Guiding by Taste Preferences:\n",
    "            If you enjoy wines with bold flavors and intense tannins, a Cabernet Sauvignon from Napa Valley would suit your palate perfectly. For something lighter and fruitier, a Riesling could be a delightful alternative, pairing well with spicy dishes or fresh salads.\n",
    "        \"\"\"),\n",
    "        (\"human\", \"\"\"\n",
    "            와인 페이링 추천에 아래 요리/맛, 와인 리뷰만을 참고하여 한글로 답변해 주시기 바랍니다.\n",
    "\n",
    "            요리/맛:\n",
    "            {dish_flavor}\n",
    "\n",
    "            와인 리뷰:\n",
    "            {wine_reviews}\n",
    "        \"\"\")\n",
    "    ])\n",
    "\n",
    "    output_parser = StrOutputParser()\n",
    "    chain = prompt | llm | output_parser\n",
    "    \n",
    "    return chain"
   ]
  },
  {
   "cell_type": "markdown",
   "id": "8d73b32e",
   "metadata": {},
   "source": [
    "# chain 연결"
   ]
  },
  {
   "cell_type": "code",
   "execution_count": 30,
   "id": "5278053e",
   "metadata": {},
   "outputs": [],
   "source": [
    "runnable_1 = RunnableLambda(describe_dish_flavor_chain)\n",
    "runnable_2 = RunnableLambda(search_wine)\n",
    "runnable_3 = RunnableLambda(recommand_wine)\n",
    "\n",
    "chain = runnable_1 | runnable_2 | runnable_3"
   ]
  },
  {
   "cell_type": "code",
   "execution_count": null,
   "id": "5fe72188",
   "metadata": {},
   "outputs": [],
   "source": [
    "# !pip install -qU grandalf"
   ]
  },
  {
   "cell_type": "code",
   "execution_count": null,
   "id": "d7f0cecc",
   "metadata": {},
   "outputs": [
    {
     "name": "stdout",
     "output_type": "stream",
     "text": [
      "+----------------------------------+ \n",
      "| describe_dish_flavor_chain_input | \n",
      "+----------------------------------+ \n",
      "                  *                  \n",
      "                  *                  \n",
      "                  *                  \n",
      "           +------------+            \n",
      "           | ChatOpenAI |            \n",
      "           +------------+            \n",
      "                  *                  \n",
      "                  *                  \n",
      "                  *                  \n",
      "          +-------------+            \n",
      "          | search_wine |            \n",
      "          +-------------+            \n",
      "                  *                  \n",
      "                  *                  \n",
      "                  *                  \n",
      "           +------------+            \n",
      "           | ChatOpenAI |            \n",
      "           +------------+            \n",
      "                  *                  \n",
      "                  *                  \n",
      "                  *                  \n",
      "      +-----------------------+      \n",
      "      | recommand_wine_output |      \n",
      "      +-----------------------+      \n"
     ]
    }
   ],
   "source": [
    "# 음식이미지 링크 > 음식찾아서 음식맛 \n",
    "# > 음식맛이 와인평에 있는 와인 검색  \n",
    "# > 와인평 + 음식맛 \n",
    "# > 소믈리에메시지\n",
    "chain.get_graph().print_ascii()"
   ]
  },
  {
   "cell_type": "code",
   "execution_count": null,
   "id": "63e81d1c",
   "metadata": {},
   "outputs": [],
   "source": [
    "response = chain.invoke(query_2)\n",
    "\n",
    "response"
   ]
  },
  {
   "cell_type": "code",
   "execution_count": null,
   "id": "03c655d2",
   "metadata": {},
   "outputs": [],
   "source": []
  }
 ],
 "metadata": {
  "kernelspec": {
   "display_name": "prompting_env",
   "language": "python",
   "name": "python3"
  },
  "language_info": {
   "codemirror_mode": {
    "name": "ipython",
    "version": 3
   },
   "file_extension": ".py",
   "mimetype": "text/x-python",
   "name": "python",
   "nbconvert_exporter": "python",
   "pygments_lexer": "ipython3",
   "version": "3.12.11"
  }
 },
 "nbformat": 4,
 "nbformat_minor": 5
}

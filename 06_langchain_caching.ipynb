{
 "cells": [
  {
   "cell_type": "code",
   "execution_count": 1,
   "id": "3ce905a2",
   "metadata": {},
   "outputs": [
    {
     "data": {
      "text/plain": [
       "'0.3.27'"
      ]
     },
     "execution_count": 1,
     "metadata": {},
     "output_type": "execute_result"
    }
   ],
   "source": [
    "from dotenv import load_dotenv\n",
    "import os\n",
    "from openai import OpenAI\n",
    "import langchain \n",
    "langchain.__version__"
   ]
  },
  {
   "cell_type": "code",
   "execution_count": 1,
   "id": "3725a3a8",
   "metadata": {},
   "outputs": [
    {
     "data": {
      "text/plain": [
       "ChatOpenAI(client=<openai.resources.chat.completions.completions.Completions object at 0x00000281832BD9A0>, async_client=<openai.resources.chat.completions.completions.AsyncCompletions object at 0x0000028183710560>, root_client=<openai.OpenAI object at 0x0000028183102960>, root_async_client=<openai.AsyncOpenAI object at 0x0000028183678410>, model_name='gpt-4o-mini', model_kwargs={}, openai_api_key=SecretStr('**********'))"
      ]
     },
     "execution_count": 1,
     "metadata": {},
     "output_type": "execute_result"
    }
   ],
   "source": [
    "from langchain_openai import ChatOpenAI\n",
    "\n",
    "llm = ChatOpenAI(model=\"gpt-4o-mini\")\n",
    "llm"
   ]
  },
  {
   "cell_type": "code",
   "execution_count": 3,
   "id": "da6f2073",
   "metadata": {},
   "outputs": [
    {
     "data": {
      "text/plain": [
       "AIMessage(content='서울에는 다양한 맛집이 있지만, 다음의 다섯 곳은 특히 유명하고 많은 사랑을 받는 레스토랑들입니다.\\n\\n1. **광화문 미진**: 전통적인 한국의 설렁탕을 맛볼 수 있는 곳으로, 깊고 진한 국물 맛이 특징입니다. 소고기와 사골이 조화롭게 어우러져 있어 많은 사람들이 찾습니다.\\n\\n2. **정식당**: 현대적인 한식을 제공하는 레스토랑으로, 신선한 재료를 사용한 창의적인 요리를 선보입니다. Michelin 스타를 받은 이력을 가지고 있어 품질이 보장됩니다.\\n\\n3. **부광동 장어집**: 신선한 장어를 사용한 다양한 요리를 즐길 수 있는 곳으로, 장어구우면서 나오는 비린내 없이 담백하고 맛있는 장어구이를 제공합니다.\\n\\n4. **가까이**: 이탈리안 레스토랑으로, 신선한 해산물과 제철 재료를 사용한 파스타와 피자가 인기입니다. 차분하고 아늑한 분위기를 즐길 수 있습니다.\\n\\n5. **동춘서커스**: 한국식 BBQ를 즐길 수 있는 레스토랑으로, 질 좋은 고기와 다양한 사이드 메뉴를 제공하여 많은 이들에게 사랑받고 있습니다.\\n\\n각 레스토랑마다 독특한 매력이 있으니, 방문하셔서 맛있는 음식을 즐기시길 바랍니다!', additional_kwargs={'refusal': None}, response_metadata={'token_usage': {'completion_tokens': 312, 'prompt_tokens': 18, 'total_tokens': 330, 'completion_tokens_details': {'accepted_prediction_tokens': 0, 'audio_tokens': 0, 'reasoning_tokens': 0, 'rejected_prediction_tokens': 0}, 'prompt_tokens_details': {'audio_tokens': 0, 'cached_tokens': 0}}, 'model_name': 'gpt-4o-mini-2024-07-18', 'system_fingerprint': 'fp_8bda4d3a2c', 'id': 'chatcmpl-CDL5IF8rmBInmgBvp7xXxvNfT2YCg', 'service_tier': 'default', 'finish_reason': 'stop', 'logprobs': None}, id='run--61bc6338-6531-452b-acba-1509549ece9e-0', usage_metadata={'input_tokens': 18, 'output_tokens': 312, 'total_tokens': 330, 'input_token_details': {'audio': 0, 'cache_read': 0}, 'output_token_details': {'audio': 0, 'reasoning': 0}})"
      ]
     },
     "execution_count": 3,
     "metadata": {},
     "output_type": "execute_result"
    }
   ],
   "source": [
    "from langchain_core.messages import HumanMessage\n",
    "messages = [\n",
    "    HumanMessage(content='서울을 대표하는 레스토랑 5곳 추천')\n",
    "    ]\n",
    "res = llm.invoke(messages)\n",
    "res"
   ]
  },
  {
   "cell_type": "markdown",
   "id": "edf26a73",
   "metadata": {},
   "source": [
    "# caching \n",
    "1. InMemoryCache\n",
    "2. cache db"
   ]
  },
  {
   "cell_type": "code",
   "execution_count": 4,
   "id": "2d673d4d",
   "metadata": {},
   "outputs": [],
   "source": [
    "from langchain_core.globals import set_llm_cache\n",
    "from langchain_core.caches import InMemoryCache\n",
    "\n",
    "set_llm_cache(InMemoryCache())"
   ]
  },
  {
   "cell_type": "code",
   "execution_count": 5,
   "id": "0dacea91",
   "metadata": {},
   "outputs": [
    {
     "data": {
      "text/plain": [
       "AIMessage(content=\"서울에는 다양한 맛과 개성을 지닌 레스토랑이 많습니다. 아래는 서울을 대표하는 레스토랑 5곳을 추천드립니다.\\n\\n1. **광화문 맛집 '한식비책'**\\n   - 전통 한식을 현대적으로 재해석한 레스토랑으로, 계절별 신선한 재료로 만든 다양한 한식 메뉴를 제공합니다.\\n\\n2. **홍대 '부대찌개 홍대본점'**\\n   - 부대찌개의 명소로 널리 알려진 곳으로, 다양한 재료와 함께 푸짐하게 제공되는 부대찌개가 인기가 많습니다.\\n\\n3. **가로수길 '노랑통닭'**\\n   - crispy한 치킨과 함께 감자튀김이 일품인 곳으로, 다양한 소스와 함께 즐길 수 있는 치킨 전문점입니다.\\n\\n4. **이태원 '델리만쥬'**\\n   - 다양한 종류의 만두와 간편한 식사를 즐길 수 있는 전문점으로, 퓨전 스타일의 만두가 인기를 끌고 있습니다.\\n\\n5. **명동 '명동교자'**\\n   - 칼국수와 만두로 유명한 전통 맛집으로, 항상 활기찬 분위기와 맛있는 음식을 제공합니다.\\n\\n이 외에도 서울에는 많은 훌륭한 레스토랑이 있으니, 개인의 취향에 따라 다양한 음식을 즐겨보시기를 추천합니다!\", additional_kwargs={'refusal': None}, response_metadata={'token_usage': {'completion_tokens': 313, 'prompt_tokens': 18, 'total_tokens': 331, 'completion_tokens_details': {'accepted_prediction_tokens': 0, 'audio_tokens': 0, 'reasoning_tokens': 0, 'rejected_prediction_tokens': 0}, 'prompt_tokens_details': {'audio_tokens': 0, 'cached_tokens': 0}}, 'model_name': 'gpt-4o-mini-2024-07-18', 'system_fingerprint': 'fp_8bda4d3a2c', 'id': 'chatcmpl-CDL8ppqmIw0RsBCeBjg6Ipy8XCAhn', 'service_tier': 'default', 'finish_reason': 'stop', 'logprobs': None}, id='run--cb9f3cb1-0874-4339-b61f-270b2811d6cb-0', usage_metadata={'input_tokens': 18, 'output_tokens': 313, 'total_tokens': 331, 'input_token_details': {'audio': 0, 'cache_read': 0}, 'output_token_details': {'audio': 0, 'reasoning': 0}})"
      ]
     },
     "execution_count": 5,
     "metadata": {},
     "output_type": "execute_result"
    }
   ],
   "source": [
    "res = llm.invoke(messages) # 4.2sec\n",
    "res"
   ]
  },
  {
   "cell_type": "code",
   "execution_count": 6,
   "id": "a528bb64",
   "metadata": {},
   "outputs": [
    {
     "data": {
      "text/plain": [
       "AIMessage(content=\"서울에는 다양한 맛과 개성을 지닌 레스토랑이 많습니다. 아래는 서울을 대표하는 레스토랑 5곳을 추천드립니다.\\n\\n1. **광화문 맛집 '한식비책'**\\n   - 전통 한식을 현대적으로 재해석한 레스토랑으로, 계절별 신선한 재료로 만든 다양한 한식 메뉴를 제공합니다.\\n\\n2. **홍대 '부대찌개 홍대본점'**\\n   - 부대찌개의 명소로 널리 알려진 곳으로, 다양한 재료와 함께 푸짐하게 제공되는 부대찌개가 인기가 많습니다.\\n\\n3. **가로수길 '노랑통닭'**\\n   - crispy한 치킨과 함께 감자튀김이 일품인 곳으로, 다양한 소스와 함께 즐길 수 있는 치킨 전문점입니다.\\n\\n4. **이태원 '델리만쥬'**\\n   - 다양한 종류의 만두와 간편한 식사를 즐길 수 있는 전문점으로, 퓨전 스타일의 만두가 인기를 끌고 있습니다.\\n\\n5. **명동 '명동교자'**\\n   - 칼국수와 만두로 유명한 전통 맛집으로, 항상 활기찬 분위기와 맛있는 음식을 제공합니다.\\n\\n이 외에도 서울에는 많은 훌륭한 레스토랑이 있으니, 개인의 취향에 따라 다양한 음식을 즐겨보시기를 추천합니다!\", additional_kwargs={'refusal': None}, response_metadata={'token_usage': {'completion_tokens': 313, 'prompt_tokens': 18, 'total_tokens': 331, 'completion_tokens_details': {'accepted_prediction_tokens': 0, 'audio_tokens': 0, 'reasoning_tokens': 0, 'rejected_prediction_tokens': 0}, 'prompt_tokens_details': {'audio_tokens': 0, 'cached_tokens': 0}}, 'model_name': 'gpt-4o-mini-2024-07-18', 'system_fingerprint': 'fp_8bda4d3a2c', 'id': 'chatcmpl-CDL8ppqmIw0RsBCeBjg6Ipy8XCAhn', 'service_tier': 'default', 'finish_reason': 'stop', 'logprobs': None}, id='run--cb9f3cb1-0874-4339-b61f-270b2811d6cb-0', usage_metadata={'input_tokens': 18, 'output_tokens': 313, 'total_tokens': 331, 'input_token_details': {'audio': 0, 'cache_read': 0}, 'output_token_details': {'audio': 0, 'reasoning': 0}})"
      ]
     },
     "execution_count": 6,
     "metadata": {},
     "output_type": "execute_result"
    }
   ],
   "source": [
    "res # 0.0 sec (캐시)"
   ]
  },
  {
   "cell_type": "code",
   "execution_count": 7,
   "id": "2616417e",
   "metadata": {},
   "outputs": [
    {
     "data": {
      "text/plain": [
       "ChatOpenAI(cache=False, client=<openai.resources.chat.completions.completions.Completions object at 0x00000281838D3590>, async_client=<openai.resources.chat.completions.completions.AsyncCompletions object at 0x00000281837545F0>, root_client=<openai.OpenAI object at 0x00000281838D3140>, root_async_client=<openai.AsyncOpenAI object at 0x00000281838F8410>, model_name='gpt-4o-mini', model_kwargs={}, openai_api_key=SecretStr('**********'))"
      ]
     },
     "execution_count": 7,
     "metadata": {},
     "output_type": "execute_result"
    }
   ],
   "source": [
    "llm1 = ChatOpenAI(model=\"gpt-4o-mini\", cache=False)\n",
    "llm1"
   ]
  },
  {
   "cell_type": "markdown",
   "id": "260ec879",
   "metadata": {},
   "source": [
    "# 메세지가 동일해야한다 처음 실행시 캐싱한다."
   ]
  },
  {
   "cell_type": "code",
   "execution_count": null,
   "id": "4ee7591f",
   "metadata": {},
   "outputs": [
    {
     "name": "stdout",
     "output_type": "stream",
     "text": [
      "Collecting redis\n",
      "  Downloading redis-6.4.0-py3-none-any.whl.metadata (10 kB)\n",
      "Downloading redis-6.4.0-py3-none-any.whl (279 kB)\n",
      "Installing collected packages: redis\n",
      "Successfully installed redis-6.4.0\n"
     ]
    }
   ],
   "source": [
    "#!pip install redis"
   ]
  },
  {
   "cell_type": "code",
   "execution_count": null,
   "id": "f7627ab4",
   "metadata": {},
   "outputs": [
    {
     "name": "stdout",
     "output_type": "stream",
     "text": [
      "bar\n"
     ]
    }
   ],
   "source": [
    "from langchain_community.cache import RedisCache\n",
    "from redis import Redis\n",
    "\n",
    "# Redis 클라이언트 생성\n",
    "import redis\n",
    "\n",
    "r = redis.Redis(\n",
    "    host='redis-11076.c340.ap-northeast-2-1.ec2.redns.redis-cloud.com',\n",
    "    port=11076,\n",
    "    decode_responses=True,\n",
    "    username=\"default\",\n",
    "    password=\"\",\n",
    ")\n",
    "\n",
    "success = r.set('foo', 'bar')\n",
    "# True\n",
    "\n",
    "result = r.get('foo')\n",
    "print(result)"
   ]
  },
  {
   "cell_type": "markdown",
   "id": "f1fa2941",
   "metadata": {},
   "source": [
    "# redis chache 설정"
   ]
  },
  {
   "cell_type": "code",
   "execution_count": null,
   "id": "7493dd3e",
   "metadata": {},
   "outputs": [],
   "source": [
    "# LangChain LLM 캐시로 등록\n",
    "set_llm_cache(RedisCache(\n",
    "    redis_ = Redis(\n",
    "            host='redis-11076.c340.ap-northeast-2-1.ec2.redns.redis-cloud.com',\n",
    "            password='',\n",
    "            port=11076\n",
    "    )\n",
    "))"
   ]
  },
  {
   "cell_type": "code",
   "execution_count": null,
   "id": "51bc0343",
   "metadata": {},
   "outputs": [],
   "source": [
    "res = llm.invoke(messages) # 4.2sec\n",
    "res"
   ]
  }
 ],
 "metadata": {
  "kernelspec": {
   "display_name": "prompting_env",
   "language": "python",
   "name": "python3"
  },
  "language_info": {
   "codemirror_mode": {
    "name": "ipython",
    "version": 3
   },
   "file_extension": ".py",
   "mimetype": "text/x-python",
   "name": "python",
   "nbconvert_exporter": "python",
   "pygments_lexer": "ipython3",
   "version": "3.12.11"
  }
 },
 "nbformat": 4,
 "nbformat_minor": 5
}

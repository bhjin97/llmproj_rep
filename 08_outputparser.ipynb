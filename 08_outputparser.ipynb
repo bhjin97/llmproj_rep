{
 "cells": [
  {
   "cell_type": "code",
   "execution_count": 1,
   "id": "5ae19906",
   "metadata": {},
   "outputs": [
    {
     "data": {
      "text/plain": [
       "ChatOpenAI(client=<openai.resources.chat.completions.completions.Completions object at 0x00000219571938C0>, async_client=<openai.resources.chat.completions.completions.AsyncCompletions object at 0x00000219574471D0>, root_client=<openai.OpenAI object at 0x0000021955BC2210>, root_async_client=<openai.AsyncOpenAI object at 0x000002195729A030>, model_name='gpt-4o-mini', model_kwargs={}, openai_api_key=SecretStr('**********'))"
      ]
     },
     "execution_count": 1,
     "metadata": {},
     "output_type": "execute_result"
    }
   ],
   "source": [
    "from langchain_openai import ChatOpenAI\n",
    "\n",
    "llm = ChatOpenAI(model=\"gpt-4o-mini\")\n",
    "llm"
   ]
  },
  {
   "cell_type": "code",
   "execution_count": 1,
   "id": "7fca70f8",
   "metadata": {},
   "outputs": [
    {
     "data": {
      "text/plain": [
       "JsonOutputParser(pydantic_object=<class '__main__.EmailParser'>)"
      ]
     },
     "execution_count": 1,
     "metadata": {},
     "output_type": "execute_result"
    }
   ],
   "source": [
    "from langchain_core.output_parsers import JsonOutputParser\n",
    "from langchain.prompts import ChatPromptTemplate\n",
    "from pydantic import BaseModel, Field\n",
    "\n",
    "class EmailParser(BaseModel):\n",
    "    sender_name: str = Field(description='이메일 송신자')\n",
    "    title: str = Field(description='이메일 제목')\n",
    "    content: str = Field(description='이메일 내용')\n",
    "    \n",
    "parser = JsonOutputParser(pydantic_object=EmailParser)\n",
    "parser"
   ]
  },
  {
   "cell_type": "code",
   "execution_count": null,
   "id": "0bb7119e",
   "metadata": {},
   "outputs": [],
   "source": []
  }
 ],
 "metadata": {
  "kernelspec": {
   "display_name": "prompting_env",
   "language": "python",
   "name": "python3"
  },
  "language_info": {
   "codemirror_mode": {
    "name": "ipython",
    "version": 3
   },
   "file_extension": ".py",
   "mimetype": "text/x-python",
   "name": "python",
   "nbconvert_exporter": "python",
   "pygments_lexer": "ipython3",
   "version": "3.12.11"
  }
 },
 "nbformat": 4,
 "nbformat_minor": 5
}
